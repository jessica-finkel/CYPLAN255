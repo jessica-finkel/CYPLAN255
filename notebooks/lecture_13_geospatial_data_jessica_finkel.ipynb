{
 "cells": [
  {
   "cell_type": "markdown",
   "id": "b40ef5a4",
   "metadata": {
    "slideshow": {
     "slide_type": "slide"
    }
   },
   "source": [
    "# CYPLAN255\n",
    "### Urban Informatics and Visualization"
   ]
  },
  {
   "cell_type": "markdown",
   "id": "2adc2c5d",
   "metadata": {
    "slideshow": {
     "slide_type": "slide"
    }
   },
   "source": [
    "HIT RECORD and TRANSCRIBE"
   ]
  },
  {
   "cell_type": "markdown",
   "id": "0ceea7a8",
   "metadata": {
    "slideshow": {
     "slide_type": "slide"
    }
   },
   "source": [
    "# Lecture 13 -- Working with Geospatial Data\n",
    "******\n",
    "March 9, 2022\n",
    "\n",
    "<img src=\"https://i.imgur.com/6spi1.jpeg\" width=700 align='right' title='source: unknown'>"
   ]
  },
  {
   "cell_type": "markdown",
   "id": "75f7d376",
   "metadata": {
    "slideshow": {
     "slide_type": "slide"
    }
   },
   "source": [
    "# Agenda\n",
    "1. Announcements\n",
    "2. Concepts in Geospatial Data\n",
    "3. Intro to Geospatial Data Analysis in Python\n",
    "4. Summary\n",
    "5. For next time\n",
    "6. Questions\n"
   ]
  },
  {
   "cell_type": "markdown",
   "id": "4f1c0cef",
   "metadata": {
    "slideshow": {
     "slide_type": "slide"
    }
   },
   "source": [
    "# 1. Announcements"
   ]
  },
  {
   "cell_type": "markdown",
   "id": "8e5d336f",
   "metadata": {
    "slideshow": {
     "slide_type": "fragment"
    }
   },
   "source": [
    "- Assignment 4 (project proposal + initial analysis) due March 13\n",
    "- Office hours"
   ]
  },
  {
   "cell_type": "markdown",
   "id": "cb3261cc",
   "metadata": {
    "slideshow": {
     "slide_type": "slide"
    }
   },
   "source": [
    "# 2. Concepts in Geospatial Data"
   ]
  },
  {
   "cell_type": "markdown",
   "id": "272ef369",
   "metadata": {
    "slideshow": {
     "slide_type": "fragment"
    }
   },
   "source": [
    "- Coordinate reference systems and map projections\n",
    "- Spatial data types and file formats\n",
    "- Spatial data operations and indexing"
   ]
  },
  {
   "cell_type": "markdown",
   "id": "f0049557",
   "metadata": {
    "slideshow": {
     "slide_type": "slide"
    }
   },
   "source": [
    "## 2.1. Geospatial Informatics and Data Visualization"
   ]
  },
  {
   "cell_type": "markdown",
   "id": "3e897840",
   "metadata": {
    "slideshow": {
     "slide_type": "fragment"
    }
   },
   "source": [
    "- Combines theory, tools, and techniques from:\n",
    "    - **Geography**: study of place\n",
    "    - **Cartography**: study of maps and mapmaking\n",
    "    - **Geodesy**: study of Earth measurement\n",
    "    - **Geometry**: study of objects in (mathematical) space\n",
    "- Not all spatial data is _geo_-spatial\n",
    "- Consists of geographic identifiers (coordinates or names) along with non-spatial attributes"
   ]
  },
  {
   "cell_type": "markdown",
   "id": "ae3b15f4",
   "metadata": {
    "slideshow": {
     "slide_type": "slide"
    }
   },
   "source": [
    "## 2.2. Spatial Data Types"
   ]
  },
  {
   "cell_type": "markdown",
   "id": "c43b525c",
   "metadata": {
    "slideshow": {
     "slide_type": "fragment"
    }
   },
   "source": [
    "Two broad categories:\n",
    "\n",
    "1. Raster -- has a finite resolution; a limit to the precision\n",
    "2. Vector -- SVG (infinite resolution)\n",
    "\n",
    "<img src=\"https://4.bp.blogspot.com/-RG_1QxvImFE/W4QtyeTQRAI/AAAAAAAAAKc/Gi-ZYw7vticQpwZ4yn71N08uVKSnyzajQCLcBGAs/s1600/GIS%2BData%2BModel.jpg\" width=300 align=\"right\" style=\"margin:0px 200px\">\n",
    "\n",
    "\n"
   ]
  },
  {
   "cell_type": "markdown",
   "id": "4c4e7592",
   "metadata": {
    "slideshow": {
     "slide_type": "fragment"
    }
   },
   "source": [
    "Different ways of representing spatially referenced data."
   ]
  },
  {
   "cell_type": "markdown",
   "id": "f0f2ad14",
   "metadata": {
    "slideshow": {
     "slide_type": "slide"
    }
   },
   "source": [
    "### 2.2.1 Raster Data"
   ]
  },
  {
   "cell_type": "markdown",
   "id": "db454ee0",
   "metadata": {
    "slideshow": {
     "slide_type": "fragment"
    }
   },
   "source": [
    "- Organized as cells in a grid\n",
    "- Raster data is best suited for data which is continuously sampled at equal intervals in space.\n",
    "  - e.g. photos, satellite imagery, lidar, elevation data \n",
    "\n",
    "<center><img src=\"https://mapschool.io/img/raster.png\" width=400></center>\n",
    "\n",
    "- A photo is just a grid of pixels, where each pixel has a centerpoint, a size, and three values for R, G, and B.\n",
    "- Raster data can associate any number of values in a given grid cell.\n",
    "- Fixed resolution"
   ]
  },
  {
   "cell_type": "markdown",
   "id": "7ad1b1e4",
   "metadata": {
    "slideshow": {
     "slide_type": "slide"
    }
   },
   "source": [
    "### 2.2.2 Vector Data"
   ]
  },
  {
   "cell_type": "markdown",
   "id": "055a430d",
   "metadata": {
    "slideshow": {
     "slide_type": "fragment"
    }
   },
   "source": [
    "- Vector data works best for representing discontinuous **features**\n",
    "   - lat/lon coordinates, road network, bicycle lane, administrative boundaries\n",
    "- Three basic vector types or **features**, all based on sequences of coordinates:\n",
    "   - Point\n",
    "   - Line\n",
    "   - Polygon\n",
    "- More complex features are derived from the above:\n",
    "<img src=\"http://www.vdsgeo.com/doc/actualmap/shapetypes.gif\" width=400>\n",
    "- Vector data is nice for visualization because it does not have a fixed resolution, which makes the features infinitely scalable (no pixels).\n",
    "   - .svg vs. .jpeg"
   ]
  },
  {
   "cell_type": "markdown",
   "id": "7e407ac4",
   "metadata": {
    "slideshow": {
     "slide_type": "slide"
    }
   },
   "source": [
    "## 2.3. A brief primer on geodesy"
   ]
  },
  {
   "cell_type": "markdown",
   "id": "3849f631",
   "metadata": {
    "slideshow": {
     "slide_type": "fragment"
    }
   },
   "source": [
    "- From [NOAA](https://oceanservice.noaa.gov/facts/geodesy.html):\n",
    "   > Geodesy is the science of accurately measuring and understanding three fundamental properties of the Earth: its geometric shape, its orientation in space, and its gravity field\n",
    "- Why do we do it?\n",
    "    1. The Earth is not perfectly spherical -- more like an oblate spheroid (like an M&M)\n",
    "    2. All 2D representations of the surface of a globe distort the geometry of its features\n",
    "    3. 1° Lat != 1° Lon -- a degree of latitude does not equal a degree of longitude. Longitude lines are angular measurements, so they intersect at the poles, so closer you get to the poles, the shorter the distances between two degrees of longitude. So that's why they aren't very useful for measuring distances.\n",
    "- Two basic geodetic concepts allow us to navigate the surface of the earth\n",
    "  1. datum - allows us to know where we are (relative to some well-defined reference)\n",
    "  2. projection - allows us to draw our position on a map (relative to other positions)"
   ]
  },
  {
   "cell_type": "markdown",
   "id": "8d859b76",
   "metadata": {
    "slideshow": {
     "slide_type": "slide"
    }
   },
   "source": [
    "### 2.3.1. Datums"
   ]
  },
  {
   "cell_type": "markdown",
   "id": "e0996542",
   "metadata": {
    "slideshow": {
     "slide_type": "fragment"
    }
   },
   "source": [
    "- **Geoid**: average sea-level due to gravity, rotation, etc.\n",
    "\n",
    "when you take into account things like gravity and rotation, this is more or less what earth looks like -- it's a geoid. It's not spherical\n",
    "  <img src=\"https://www.researchgate.net/profile/Ales-Bezdek/publication/256938953/figure/fig1/AS:614122672640022@1523429663891/Geoid-height-computed-from-the-gravity-field-model-EGM2008-Pavlis-et-al-2012_W640.jpg\" width=300>\n",
    "  \n",
    "- **Ellipsoid**: the oblate spheroid of best fit; the best fit 3D solid/shape that approximates the geoid, or the best fit shape that can be described in mathematical terms\n",
    "<img src=\"http://www.geo.hunter.cuny.edu/~jochen/gtech201/lectures/lec6concepts/Datums/Basics%20of%20datums_files/image001.gif\">"
   ]
  },
  {
   "cell_type": "markdown",
   "id": "1cc1242e",
   "metadata": {
    "slideshow": {
     "slide_type": "slide"
    }
   },
   "source": [
    "- But multiple ellipsoids are possible depending on whether you want global or local accuracy. Can have a globally best fit ellipsoid or a locally best fit ellipsoid. \n",
    "<img src=\"https://www.e-education.psu.edu/geog486/sites/www.e-education.psu.edu.geog486/files/Lesson_05/Images/5.2.1.PNG\" width=700>\n",
    "\n",
    "\n",
    "So when it comes to taking measurements, you can choose what you want to use as a reference point. "
   ]
  },
  {
   "cell_type": "markdown",
   "id": "01c8e314",
   "metadata": {
    "slideshow": {
     "slide_type": "fragment"
    }
   },
   "source": [
    "- A **datum** defines an ellipsoid and its orientation relative to the geoid:\n",
    "\n",
    "<center><img src=\"https://www.e-education.psu.edu/geog862/sites/www.e-education.psu.edu.geog862/files/images/Lesson05/European%20Datum.png\" width=400></center>\n",
    "\n",
    "For purposes of this course, ok to think about the ellipsoid and the datum as the same thing. They aren't really, but the datum is like one version of an ellipsoid. Datum contains a lot of different info, but it will always include the name of the ellipsoid that it is using. E.g., if it north america, will probably use NAD 1983. Its ellipsoid fits the geoid very well in north america. The European Datum is another one designed to fit the geoid in Europe. If you have data that spans multiple parts of the globe, will want to select a datum with a more global best fit. Or if you want to compare across regions, can use a local datum to compare in each place and then compare since the unit can still be the same (e.g., i you are measuring local commuting distances)."
   ]
  },
  {
   "cell_type": "markdown",
   "id": "c6285ea3",
   "metadata": {
    "slideshow": {
     "slide_type": "slide"
    }
   },
   "source": [
    "### 2.3.2. Projections\n",
    "\n",
    "Now that we can know where we are on a 3D representation of Earth, we can use **projections** to translate these coordinates to positions in two dimensional space (e.g. a map). There are literally hundreds of different projections to pick from, and it's important to choose wisely. Why? Let's let the Organization of Cartographers for Social Equality explain:\n"
   ]
  },
  {
   "cell_type": "code",
   "execution_count": 1,
   "id": "b6b7d9b6",
   "metadata": {
    "hide_input": true,
    "slideshow": {
     "slide_type": "fragment"
    }
   },
   "outputs": [
    {
     "data": {
      "text/html": [
       "<iframe width=900 height=600 src=\"https://www.youtube.com/embed/vVX-PrBRtTY\" title=\"YouTube video player\" frameborder=\"0\" allow=\"accelerometer; autoplay; clipboard-write; encrypted-media; gyroscope; picture-in-picture\" allowfullscreen></iframe>\n"
      ],
      "text/plain": [
       "<IPython.core.display.HTML object>"
      ]
     },
     "metadata": {},
     "output_type": "display_data"
    }
   ],
   "source": [
    "%%html\n",
    "<iframe width=900 height=600 src=\"https://www.youtube.com/embed/vVX-PrBRtTY\" title=\"YouTube video player\" frameborder=\"0\" allow=\"accelerometer; autoplay; clipboard-write; encrypted-media; gyroscope; picture-in-picture\" allowfullscreen></iframe>"
   ]
  },
  {
   "cell_type": "markdown",
   "id": "7722c5b1",
   "metadata": {
    "slideshow": {
     "slide_type": "slide"
    }
   },
   "source": [
    "All projections introduce visual distortion, and so all projections compromise certain kinds of accuracy in exchange for others:\n",
    "- Equal area projections preserve...area (e.g. Albers)\n",
    "- Conformal projections preserve shape (angles, shape, etc)\n",
    "- Equidistant projections preserve distance\n",
    "- Misc. others are optimized for local navigation, data collection, visual appearance, etc. and try to compromise across the others"
   ]
  },
  {
   "cell_type": "markdown",
   "id": "a4b7d475",
   "metadata": {
    "slideshow": {
     "slide_type": "slide"
    }
   },
   "source": [
    "**Mercator (conformal)** -- this shows degree of distortion\n",
    "\n",
    "<center><img src=\"https://upload.wikimedia.org/wikipedia/commons/8/87/Tissot_mercator.png\"></center>"
   ]
  },
  {
   "cell_type": "markdown",
   "id": "9f2874e3",
   "metadata": {},
   "source": [
    "**Sinusoidal (Equal Area, Equidistant)**\n",
    "<img src=\"https://upload.wikimedia.org/wikipedia/commons/0/07/Sinusoidal_with_Tissot%27s_Indicatrices_of_Distortion.svg\" width=900>\n"
   ]
  },
  {
   "cell_type": "markdown",
   "id": "7ef9aca5",
   "metadata": {
    "slideshow": {
     "slide_type": "slide"
    }
   },
   "source": [
    "**Dymaxion (compromise)**\n",
    "\n",
    "\n",
    "<img src=\"https://upload.wikimedia.org/wikipedia/commons/b/b0/Dymaxion_with_Tissot%27s_Indicatrices_of_Distortion.svg\" width=900>"
   ]
  },
  {
   "cell_type": "markdown",
   "id": "39db6344",
   "metadata": {
    "slideshow": {
     "slide_type": "slide"
    }
   },
   "source": [
    "### 2.3.3. Coordinate Reference Systems"
   ]
  },
  {
   "cell_type": "markdown",
   "id": "78203222",
   "metadata": {
    "slideshow": {
     "slide_type": "fragment"
    }
   },
   "source": [
    "- Geographic coordinates are only useful if we know the **coordinate reference system (CRS)** they use. If a CRS is not explicitly defined, you'll have to guess! \n",
    "- A CRS is comprised of:\n",
    "  1. a datum\n",
    "  2. a unit of measure\n",
    "  3. a prime meridian -- tells where 0 point is on the map\n",
    "  4. a projection (sometimes)\n",
    "- Different efforts to standardize CRS catalogue, including **SRID** and **EPSG**\n",
    "- Most common CRS is **WGS84**, a.k.a. **EPSG:4236**  (so if not specified there's a good chance that's what it is, so that's a good guess to start with, but may not be)"
   ]
  },
  {
   "cell_type": "markdown",
   "id": "adaf781e",
   "metadata": {
    "slideshow": {
     "slide_type": "slide"
    }
   },
   "source": [
    "Two Types of Coordinate Systems:\n",
    "\n",
    "**Geographic vs. Projected Coordinate Systems**\n",
    "  - **GCS** uses _radial_ coordinates (lat/lon) on the surface of the globe\n",
    "    - No projection required, coordinates measured directly on the ellipsoid\n",
    "    - Must use **[Haversine formula](https://en.wikipedia.org/wiki/Haversine_formula)** to compute **great circle** distance from degrees (assumes spherical earth)\n",
    "       - or [Vincenty formulae](https://en.wikipedia.org/wiki/Vincenty%27s_formulae) if you need to be precise\n",
    "  - **PCS** is defined using _cartesian_ coordinates (x, y, z coordinates) -- 1 unit of movement on x axis = 1 unit of movement on y axis. (vs. not the case for lat/lon in GCS).  \n",
    "    - Requires projection to translate measurements to points on the ellipsoid.\n",
    "    - Allows for use of standard planar measurements (e.g. feet, meters)"
   ]
  },
  {
   "cell_type": "markdown",
   "id": "77935df1",
   "metadata": {
    "slideshow": {
     "slide_type": "slide"
    }
   },
   "source": [
    "# 3. Working with Spatial Data"
   ]
  },
  {
   "cell_type": "markdown",
   "id": "f7df0f74",
   "metadata": {
    "slideshow": {
     "slide_type": "slide"
    }
   },
   "source": [
    "## 3.1. Common spatial data transformations"
   ]
  },
  {
   "cell_type": "markdown",
   "id": "2564c182",
   "metadata": {
    "slideshow": {
     "slide_type": "fragment"
    }
   },
   "source": [
    "- Spatial joins\n",
    "   - like a merge where the \"on\" key is geographic -- merging two datasets based on geography. Not merging, e.g., on county names -- instead, e.g., we have shapes of counties in left table and in right table have point data without counties listed, and I want to get county-level census attributes for those points, so need to merge on spatial data like coordinates themselves.\n",
    "- Distance calculations\n",
    "   - between points, along a line, nearest-neighbor, one-to-many vs. many-to-one\n",
    "- Set operations\n",
    "   - e.g. intersect, union, difference\n",
    "<center><img src=\"https://geopandas.org/en/stable/_images/overlay_operations.png\" width=700></center>\n",
    "- Geometric manipulations\n",
    "   - buffer, centroid, convex hull, reprojection"
   ]
  },
  {
   "cell_type": "markdown",
   "id": "2db6fa3a",
   "metadata": {
    "slideshow": {
     "slide_type": "slide"
    }
   },
   "source": [
    "## 3.2. Spatial Indexing\n",
    "indexes help speed up operations like merges and joins because python/pandas gets more contextual info about where to find the things that it's looking for, so everytime you go row by row on right and try to find a match on the left, you don't have to do each one which is super slow. index gives it a clue where to start its search. \n",
    "\n",
    "This works differently when not merging on strings or numerics, here we are merging on spatial atttributes, so need psecial kind of spacial index to divide up the space so when we tell python to do a join, it doesn't have to go through every point in one dataset and then every point in another dataset to figure out where to start. Quadtree, for example, divides spatial data into quadrants, and every point has an index that says this is in level 1 quadrant 4, so you can limit search to just that quadrant. It's a way to code to speed up search operations. RTree is another one."
   ]
  },
  {
   "cell_type": "markdown",
   "id": "6b253ab1",
   "metadata": {
    "slideshow": {
     "slide_type": "fragment"
    }
   },
   "source": [
    "e.g. **Quadtree**\n",
    "<center><img src=\"https://upload.wikimedia.org/wikipedia/commons/8/8b/Point_quadtree.svg\"></center>"
   ]
  },
  {
   "cell_type": "markdown",
   "id": "51955c75",
   "metadata": {
    "slideshow": {
     "slide_type": "slide"
    }
   },
   "source": [
    "**R-tree**\n",
    "<img src=\"https://www.researchgate.net/profile/Changxiu-Cheng/publication/314239583/figure/fig1/AS:565486467665925@1511833888867/Example-of-R-tree-indexing-a-labeled-rectangles-in-different-levels-and-a-dash-line_W640.jpg\">"
   ]
  },
  {
   "cell_type": "markdown",
   "id": "52a4211c",
   "metadata": {
    "slideshow": {
     "slide_type": "slide"
    }
   },
   "source": [
    "## 3.3. Common Geospatial File Formats"
   ]
  },
  {
   "cell_type": "markdown",
   "id": "b5d0cd66",
   "metadata": {
    "slideshow": {
     "slide_type": "fragment"
    }
   },
   "source": [
    "- Raster data typically stored as **TIFF** or **GeoTIFF** (photos are tif because they are raster/pixels)\n",
    "- We've already seen one file format for storing vector data: **GeoJSON**\n",
    "  - CRS is always **EPSG:4326** (aka WGS84 -- if don't see projection in GeoJSON, that's because assumed it's this one) ([source](https://www.rfc-editor.org/rfc/rfc7946#section-4))\n",
    "- **Shapefile** is a proprietary format developed by ESRI. Shapefiles actually include multiple file types:\n",
    "  - **.shp**, **.dbx** (database file), **.prj** (projection file), **.shx**\n",
    "- **.kml** or **.kmz** is format developed by Google and used mainly with Google Earth\n",
    "- Of course, flat files (e.g. **.csv**) are often used for point data -- lat/lon as columns "
   ]
  },
  {
   "cell_type": "markdown",
   "id": "9424aebd",
   "metadata": {
    "slideshow": {
     "slide_type": "slide"
    }
   },
   "source": [
    "# 4. Geospatial Data Analysis in Python"
   ]
  },
  {
   "cell_type": "markdown",
   "id": "42628b30",
   "metadata": {
    "slideshow": {
     "slide_type": "fragment"
    }
   },
   "source": [
    "In this section, you'll familiarize yourself with some of the most popular Python libraries for working with geospatial data:\n",
    "- [Shapely](https://shapely.readthedocs.io/en/latest/manual.html) -- low-level Python library for working with geometric/spatial data types and processing algorithms -- you can define point, line, square, multi-line, but coordinates don't necessarily refer to places on earth.\n",
    "- [Fiona](https://fiona.readthedocs.io/) -- let's you load shape files, geotiffs; reading spatial data files (other libraries use this behind the scenes)\n",
    "- [pyproj](https://pyproj4.github.io/pyproj/stable/) -- projections and coordinate transformations\n",
    "- [GeoPy](https://geopy.readthedocs.io/) -- distance algorithms and automated geocoding\n",
    "- [GeoPandas](https://geopandas.org) -- Pandas + Shapely (ops) + Fiona (data types, i/o) -- lets you load a shapefile as a dataframe. So makes life easier when you want to work with spatial data."
   ]
  },
  {
   "cell_type": "markdown",
   "id": "46f5806f",
   "metadata": {
    "slideshow": {
     "slide_type": "slide"
    }
   },
   "source": [
    "## 4.1. Calculating distances\n",
    "\n",
    "You can perform geospatial analysis in Python even without starting from an existing dataset. Here we'll calculate the great-circle distance between New York and San Francisco. (Great-circle distance based on Haversine formula. If you don't want to projet but want to get a sense of distance. It makes an assumption that the earth is a perfect sphere and then uses the radius of that sphere to convert a radial distance to a linear one.)\n",
    "\n",
    "https://geopy.readthedocs.io/en/stable/#module-geopy.distance  \n",
    "https://en.wikipedia.org/wiki/Great-circle_distance\n",
    "\n",
    "I've provided the coordinates below for you, but you could have used a geocoding API to get them yourself!"
   ]
  },
  {
   "cell_type": "code",
   "execution_count": 2,
   "id": "244420e7",
   "metadata": {
    "slideshow": {
     "slide_type": "fragment"
    }
   },
   "outputs": [],
   "source": [
    "from geopy.distance import great_circle, distance\n",
    "\n",
    "sf = (37.8, -122.4) \n",
    "nyc = (40.7, -74.0)\n",
    "\n",
    "sf_to_nyc = great_circle(sf, nyc)   #computes great-circle distance"
   ]
  },
  {
   "cell_type": "code",
   "execution_count": 3,
   "id": "e3b4c6a8",
   "metadata": {
    "slideshow": {
     "slide_type": "fragment"
    }
   },
   "outputs": [
    {
     "data": {
      "text/plain": [
       "2564.5958240672217"
      ]
     },
     "execution_count": 3,
     "metadata": {},
     "output_type": "execute_result"
    }
   ],
   "source": [
    "sf_to_nyc.miles  # haversine"
   ]
  },
  {
   "cell_type": "code",
   "execution_count": 4,
   "id": "1e8d38c5",
   "metadata": {
    "slideshow": {
     "slide_type": "fragment"
    }
   },
   "outputs": [
    {
     "data": {
      "text/plain": [
       "2570.842635015662"
      ]
     },
     "execution_count": 4,
     "metadata": {},
     "output_type": "execute_result"
    }
   ],
   "source": [
    "distance(sf, nyc).miles  # vincenty  #probably more accurate because takes into account the ellipsoid shape. But you can\n",
    "#get away with using latitude/longitude for calculating distances for most part, but \n",
    "#if you have used them for distance or area computations, a bit of a red flag for final projects, but often can get you most of the way there."
   ]
  },
  {
   "cell_type": "markdown",
   "id": "e7272cf4",
   "metadata": {
    "slideshow": {
     "slide_type": "slide"
    }
   },
   "source": [
    "#### 4.1.1. Exercise\n",
    "\n",
    "- What's the distance in kilometers between San Francisco and Los Angeles? \n",
    "- What are the units that are being returned by default?"
   ]
  },
  {
   "cell_type": "code",
   "execution_count": null,
   "id": "11405247",
   "metadata": {},
   "outputs": [],
   "source": []
  },
  {
   "cell_type": "markdown",
   "id": "b17c0ad4",
   "metadata": {
    "slideshow": {
     "slide_type": "slide"
    }
   },
   "source": [
    "## 4.2. Reading geospatial data files (using GeoPANDAS)\n",
    "\n",
    "GeoPandas provides us with access to Fiona, a Python library for reading/writing geospatial file formats like shapefiles, GeoJSON, etc.\n",
    "\n",
    "It looks like this data has become a bit stale, but we're going to load a dataset of Bay Area store fronts compiled by [City Observatory](http://cityobservatory.org/storefront/) and merge it with a dataset of Census tract geometries from the US Census:"
   ]
  },
  {
   "cell_type": "code",
   "execution_count": 5,
   "id": "634346a6",
   "metadata": {
    "slideshow": {
     "slide_type": "fragment"
    }
   },
   "outputs": [],
   "source": [
    "import requests\n",
    "import geopandas as gpd\n",
    "\n",
    "storefront_url = \"https://github.com/dillonma/storefrontindex/raw/master/all56_nACSxMSA__41860.0.geojson\"  #dataset with storefronts in San Francisco statistical area\n",
    "census_url = \"https://www2.census.gov/geo/tiger/TIGER2010/TRACT/2010/tl_2010_06_tract10.zip\" #URL that points to census tract geometries. \n",
    "#This points to a zip file that contains the shapefiles in an archive, and geopandas can read it and \n",
    "#infer it needs to extract archive and unzip the shapefile without us having to tell it explicitly to do that\n",
    "\n",
    "storefronts = gpd.read_file(storefront_url)\n",
    "tracts = gpd.read_file(census_url)"
   ]
  },
  {
   "cell_type": "code",
   "execution_count": 6,
   "id": "81ab14a4",
   "metadata": {
    "slideshow": {
     "slide_type": "fragment"
    }
   },
   "outputs": [
    {
     "name": "stdout",
     "output_type": "stream",
     "text": [
      "<class 'geopandas.geodataframe.GeoDataFrame'>\n",
      "<class 'geopandas.geodataframe.GeoDataFrame'>\n"
     ]
    }
   ],
   "source": [
    "print(type(storefronts))\n",
    "print(type(tracts))"
   ]
  },
  {
   "cell_type": "markdown",
   "id": "aa9765a8",
   "metadata": {
    "slideshow": {
     "slide_type": "slide"
    }
   },
   "source": [
    "### 4.2.1. Built-in plotting\n",
    "Like pandas, GeoPandas has built-in plotting functionality which calls Matplotlib behind the scenes (just like pandas does):"
   ]
  },
  {
   "cell_type": "code",
   "execution_count": 7,
   "id": "7fcbba44",
   "metadata": {
    "slideshow": {
     "slide_type": "fragment"
    }
   },
   "outputs": [
    {
     "data": {
      "text/plain": [
       "<AxesSubplot:>"
      ]
     },
     "execution_count": 7,
     "metadata": {},
     "output_type": "execute_result"
    },
    {
     "data": {
      "image/png": "[encoded data removed]",
      "text/plain": [
       "<Figure size 432x288 with 1 Axes>"
      ]
     },
     "metadata": {
      "needs_background": "light"
     },
     "output_type": "display_data"
    }
   ],
   "source": [
    "storefronts.plot()"
   ]
  },
  {
   "cell_type": "code",
   "execution_count": 8,
   "id": "02f3a8e5",
   "metadata": {
    "slideshow": {
     "slide_type": "fragment"
    }
   },
   "outputs": [
    {
     "data": {
      "text/plain": [
       "<AxesSubplot:>"
      ]
     },
     "execution_count": 8,
     "metadata": {},
     "output_type": "execute_result"
    },
    {
     "data": {
      "image/png": "[encoded data removed]",
      "text/plain": [
       "<Figure size 432x288 with 1 Axes>"
      ]
     },
     "metadata": {
      "needs_background": "light"
     },
     "output_type": "display_data"
    }
   ],
   "source": [
    "tracts.plot()"
   ]
  },
  {
   "cell_type": "markdown",
   "id": "3b5ba530",
   "metadata": {
    "slideshow": {
     "slide_type": "slide"
    }
   },
   "source": [
    "## 4.3. GeoPandas data types\n",
    "\n",
    "GeoPandas is designed to make it easy for pandas users to work with spatial data. Most of the functionality you expect from pandas is available in GeoPandas as well. See [here](https://geopandas.readthedocs.io/en/v0.3.0/data_structures.html) for more on GeoPandas data structures in particular.\n",
    "\n"
   ]
  },
  {
   "cell_type": "markdown",
   "id": "e7802d6d",
   "metadata": {},
   "source": [
    "### 4.3.1. the `GeoDataFrame`"
   ]
  },
  {
   "cell_type": "code",
   "execution_count": 10,
   "id": "a32545ea",
   "metadata": {
    "scrolled": false,
    "slideshow": {
     "slide_type": "fragment"
    }
   },
   "outputs": [
    {
     "data": {
      "text/html": [
       "<div>\n",
       "<style scoped>\n",
       "    .dataframe tbody tr th:only-of-type {\n",
       "        vertical-align: middle;\n",
       "    }\n",
       "\n",
       "    .dataframe tbody tr th {\n",
       "        vertical-align: top;\n",
       "    }\n",
       "\n",
       "    .dataframe thead th {\n",
       "        text-align: right;\n",
       "    }\n",
       "</style>\n",
       "<table border=\"1\" class=\"dataframe\">\n",
       "  <thead>\n",
       "    <tr style=\"text-align: right;\">\n",
       "      <th></th>\n",
       "      <th>OBJECTID_1</th>\n",
       "      <th>ObjectID</th>\n",
       "      <th>CITY</th>\n",
       "      <th>ZIP</th>\n",
       "      <th>SIC</th>\n",
       "      <th>NEAR_FID</th>\n",
       "      <th>NEAR_DIST</th>\n",
       "      <th>nACSxMSA</th>\n",
       "      <th>geometry</th>\n",
       "    </tr>\n",
       "  </thead>\n",
       "  <tbody>\n",
       "    <tr>\n",
       "      <th>0</th>\n",
       "      <td>8377</td>\n",
       "      <td>7823</td>\n",
       "      <td>Woodacre</td>\n",
       "      <td>94973</td>\n",
       "      <td>5411</td>\n",
       "      <td>239818</td>\n",
       "      <td>0.000509</td>\n",
       "      <td>41860.0</td>\n",
       "      <td>POINT (-122.64046 38.01412)</td>\n",
       "    </tr>\n",
       "    <tr>\n",
       "      <th>1</th>\n",
       "      <td>8378</td>\n",
       "      <td>7824</td>\n",
       "      <td>Sausalito</td>\n",
       "      <td>94965</td>\n",
       "      <td>5944</td>\n",
       "      <td>260184</td>\n",
       "      <td>0.000042</td>\n",
       "      <td>41860.0</td>\n",
       "      <td>POINT (-122.47913 37.85519)</td>\n",
       "    </tr>\n",
       "    <tr>\n",
       "      <th>2</th>\n",
       "      <td>8379</td>\n",
       "      <td>7825</td>\n",
       "      <td>Sausalito</td>\n",
       "      <td>94965</td>\n",
       "      <td>5944</td>\n",
       "      <td>439846</td>\n",
       "      <td>0.000046</td>\n",
       "      <td>41860.0</td>\n",
       "      <td>POINT (-122.47936 37.85552)</td>\n",
       "    </tr>\n",
       "    <tr>\n",
       "      <th>3</th>\n",
       "      <td>8380</td>\n",
       "      <td>7826</td>\n",
       "      <td>Sausalito</td>\n",
       "      <td>94965</td>\n",
       "      <td>5813</td>\n",
       "      <td>339760</td>\n",
       "      <td>0.000047</td>\n",
       "      <td>41860.0</td>\n",
       "      <td>POINT (-122.48003 37.85652)</td>\n",
       "    </tr>\n",
       "    <tr>\n",
       "      <th>4</th>\n",
       "      <td>8381</td>\n",
       "      <td>7827</td>\n",
       "      <td>Sausalito</td>\n",
       "      <td>94965</td>\n",
       "      <td>5812</td>\n",
       "      <td>260187</td>\n",
       "      <td>0.000019</td>\n",
       "      <td>41860.0</td>\n",
       "      <td>POINT (-122.48635 37.85911)</td>\n",
       "    </tr>\n",
       "  </tbody>\n",
       "</table>\n",
       "</div>"
      ],
      "text/plain": [
       "   OBJECTID_1  ObjectID       CITY    ZIP   SIC  NEAR_FID  NEAR_DIST  \\\n",
       "0        8377      7823   Woodacre  94973  5411    239818   0.000509   \n",
       "1        8378      7824  Sausalito  94965  5944    260184   0.000042   \n",
       "2        8379      7825  Sausalito  94965  5944    439846   0.000046   \n",
       "3        8380      7826  Sausalito  94965  5813    339760   0.000047   \n",
       "4        8381      7827  Sausalito  94965  5812    260187   0.000019   \n",
       "\n",
       "   nACSxMSA                     geometry  \n",
       "0   41860.0  POINT (-122.64046 38.01412)  \n",
       "1   41860.0  POINT (-122.47913 37.85519)  \n",
       "2   41860.0  POINT (-122.47936 37.85552)  \n",
       "3   41860.0  POINT (-122.48003 37.85652)  \n",
       "4   41860.0  POINT (-122.48635 37.85911)  "
      ]
     },
     "execution_count": 10,
     "metadata": {},
     "output_type": "execute_result"
    }
   ],
   "source": [
    "storefronts.head() #result looks like a regular old pandas dataframe"
   ]
  },
  {
   "cell_type": "code",
   "execution_count": 11,
   "id": "29022ede",
   "metadata": {
    "slideshow": {
     "slide_type": "fragment"
    }
   },
   "outputs": [
    {
     "data": {
      "text/plain": [
       "22502"
      ]
     },
     "execution_count": 11,
     "metadata": {},
     "output_type": "execute_result"
    }
   ],
   "source": [
    "len(storefronts) #can do similar operations like len(), .shape(), .describe(), but has additional metadata components that\n",
    "#you have access to that you don't with regular pandas."
   ]
  },
  {
   "cell_type": "markdown",
   "id": "0dff7ba4",
   "metadata": {
    "slideshow": {
     "slide_type": "slide"
    }
   },
   "source": [
    "But you get some geospatial attributes that a `pandas.DataFrame` does not have:"
   ]
  },
  {
   "cell_type": "code",
   "execution_count": 12,
   "id": "2b9bc48d",
   "metadata": {
    "slideshow": {
     "slide_type": "fragment"
    }
   },
   "outputs": [
    {
     "name": "stdout",
     "output_type": "stream",
     "text": [
      "[-122.90414297   37.25166337 -121.58758986   38.25501312]\n",
      "epsg:4326\n",
      "rtree.index.Index(bounds=[-122.90414297142087, 37.25166337016856, -121.5875898599839, 38.25501311706188], size=22502)\n"
     ]
    }
   ],
   "source": [
    "print(storefronts.total_bounds)  #bounding box\n",
    "print(storefronts.crs) #query the coordinate reference system\n",
    "print(storefronts.sindex) #can ask about the spatial index it's using to store the data"
   ]
  },
  {
   "cell_type": "markdown",
   "id": "faf6e47f",
   "metadata": {
    "slideshow": {
     "slide_type": "slide"
    }
   },
   "source": [
    "Most columns in a GeoDataFrame are just plain `pandas.Series` objects:"
   ]
  },
  {
   "cell_type": "code",
   "execution_count": 13,
   "id": "04cb73c8",
   "metadata": {
    "slideshow": {
     "slide_type": "fragment"
    }
   },
   "outputs": [
    {
     "name": "stdout",
     "output_type": "stream",
     "text": [
      "CITY column is a <class 'pandas.core.series.Series'>\n",
      "CITY column dtype is 'object'\n",
      "CITY column values are <class 'str'>\n",
      "First value in CITY column is 'Woodacre'\n"
     ]
    }
   ],
   "source": [
    "col = \"CITY\"\n",
    "print(\"{0} column is a {1}\".format(col, type(storefronts[col])))\n",
    "print(\"{0} column dtype is '{1}'\".format(col, storefronts[col].dtype))\n",
    "print(\"{0} column values are {1}\".format(col, type(storefronts[col][0])))\n",
    "print(\"First value in {0} column is '{1}'\".format(col, storefronts[col][0]))"
   ]
  },
  {
   "cell_type": "markdown",
   "id": "dcde922d",
   "metadata": {
    "slideshow": {
     "slide_type": "slide"
    }
   },
   "source": [
    "But the \"geometry\" column is special:"
   ]
  },
  {
   "cell_type": "code",
   "execution_count": 15,
   "id": "baf912cc",
   "metadata": {
    "slideshow": {
     "slide_type": "fragment"
    }
   },
   "outputs": [
    {
     "name": "stdout",
     "output_type": "stream",
     "text": [
      "CITY column is a <class 'pandas.core.series.Series'>\n",
      "CITY column dtype is 'object'\n",
      "CITY column values are <class 'str'>\n",
      "First value in CITY column is 'Woodacre'\n"
     ]
    }
   ],
   "source": [
    "#col =   #geometry colum is a geoseries\"\n",
    "print(\"{0} column is a {1}\".format(col, type(storefronts[col])))\n",
    "print(\"{0} column dtype is '{1}'\".format(col, storefronts[col].dtype))  #geometry column dtype is \"geometry\"\n",
    "print(\"{0} column values are {1}\".format(col, type(storefronts[col][0])))\n",
    "print(\"First value in {0} column is '{1}'\".format(col, storefronts[col][0]))"
   ]
  },
  {
   "cell_type": "markdown",
   "id": "cb7e9e63",
   "metadata": {
    "slideshow": {
     "slide_type": "fragment"
    }
   },
   "source": [
    "In fact, the only thing that distinguishs a `GeoDataFrame` from a pandas `DataFrame` is that one column is a `GeoSeries`:"
   ]
  },
  {
   "cell_type": "code",
   "execution_count": 16,
   "id": "a69b0ea9",
   "metadata": {
    "slideshow": {
     "slide_type": "fragment"
    }
   },
   "outputs": [
    {
     "data": {
      "text/plain": [
       "pandas.core.frame.DataFrame"
      ]
     },
     "execution_count": 16,
     "metadata": {},
     "output_type": "execute_result"
    }
   ],
   "source": [
    "type(storefronts[[col for col in storefronts.columns if col != 'geometry']])"
   ]
  },
  {
   "cell_type": "markdown",
   "id": "74d468c4",
   "metadata": {
    "slideshow": {
     "slide_type": "slide"
    }
   },
   "source": [
    "### 4.3.2 the `GeoSeries`"
   ]
  },
  {
   "cell_type": "markdown",
   "id": "f0805845",
   "metadata": {
    "slideshow": {
     "slide_type": "fragment"
    }
   },
   "source": [
    "All of the special spatial attributes of the `GeoDataFrame` are really just attributes of the `GeoSeries` geometry column"
   ]
  },
  {
   "cell_type": "code",
   "execution_count": 17,
   "id": "8f3efc2f",
   "metadata": {
    "slideshow": {
     "slide_type": "fragment"
    }
   },
   "outputs": [
    {
     "name": "stdout",
     "output_type": "stream",
     "text": [
      "[-122.90414297   37.25166337 -121.58758986   38.25501312]\n",
      "epsg:4326\n",
      "rtree.index.Index(bounds=[-122.90414297142087, 37.25166337016856, -121.5875898599839, 38.25501311706188], size=22502)\n"
     ]
    }
   ],
   "source": [
    "print(storefronts[\"geometry\"].total_bounds)\n",
    "print(storefronts[\"geometry\"].crs)\n",
    "print(storefronts[\"geometry\"].sindex)"
   ]
  },
  {
   "cell_type": "markdown",
   "id": "10489b09",
   "metadata": {
    "slideshow": {
     "slide_type": "slide"
    }
   },
   "source": [
    "## 4.4. Geometric Data Types\n",
    "\n",
    "Shapely is a Python library which defines class objects that correspond to geometric objects types. See the [docs](https://shapely.readthedocs.io/en/latest/manual.html#geometric-objects) for more info."
   ]
  },
  {
   "cell_type": "markdown",
   "id": "08541448",
   "metadata": {
    "slideshow": {
     "slide_type": "fragment"
    }
   },
   "source": [
    "### 4.4.1. `Point` and `LineString` objects\n",
    "\n",
    "In Shapely, these object types (e.g. points, lines, and polygons) have various geometric attributes by default:\n",
    "\n",
    "(Shapely is the library that defines the object types that the other libraries expect -- look at the Shapely docs for actual definitions)"
   ]
  },
  {
   "cell_type": "code",
   "execution_count": 18,
   "id": "56728aa7",
   "metadata": {
    "slideshow": {
     "slide_type": "fragment"
    }
   },
   "outputs": [
    {
     "name": "stdout",
     "output_type": "stream",
     "text": [
      "-122.64045912328976\n",
      "38.01412057170717\n"
     ]
    }
   ],
   "source": [
    "#calling geometry geoseries, taking the first element in it, and getting the x and y coordinates.\n",
    "\n",
    "print(storefronts[\"geometry\"][0].x) \n",
    "print(storefronts[\"geometry\"][0].y)"
   ]
  },
  {
   "cell_type": "markdown",
   "id": "eeaf89c4",
   "metadata": {
    "slideshow": {
     "slide_type": "slide"
    }
   },
   "source": [
    "You can, of course, manually create a geometric object from coordinate pairs:"
   ]
  },
  {
   "cell_type": "code",
   "execution_count": 19,
   "id": "fa8cb742",
   "metadata": {
    "slideshow": {
     "slide_type": "fragment"
    }
   },
   "outputs": [
    {
     "name": "stdout",
     "output_type": "stream",
     "text": [
      "POINT (-122.4 37.8) POINT (-74 40.7) LINESTRING (-122.4 37.8, -74 40.7) LINESTRING (-122.4 37.8, -74 40.7)\n"
     ]
    }
   ],
   "source": [
    "from shapely.geometry import Point, LineString\n",
    "point1 = Point(sf[1], sf[0])  #x and y coordinate of SF point\n",
    "point2 = Point(nyc[1], nyc[0]) #x and y coordinate of NYC point\n",
    "line1 = LineString([point1, point2])  #linestring is a shapely data object type. Creates a line between x coordinate of SF and NY\n",
    "line2 = LineString([[sf[1], sf[0]], [nyc[1], nyc[0]]]) #\n",
    "print(point1, point2, line1, line2)\n",
    "\n",
    "#in shapely, have to give coordinates in longitude, latitude!"
   ]
  },
  {
   "cell_type": "markdown",
   "id": "ff84a8b8",
   "metadata": {
    "slideshow": {
     "slide_type": "fragment"
    }
   },
   "source": [
    "Two things to notice:\n",
    "  1. Shapely (and therefore GeoPandas) expects coordinates in the form `(x, y)`: ~(lat, lon)~ $\\rightarrow$ (lon, lat)\n",
    "  2. A `LineString` is just a sequence of `Point` objects or coordinates"
   ]
  },
  {
   "cell_type": "markdown",
   "id": "da35a32d",
   "metadata": {
    "slideshow": {
     "slide_type": "slide"
    }
   },
   "source": [
    "### 4.4.2. Polygons\n",
    "\n",
    "Similarly, a `Polygon` is just a `LineString` where the first `Point` is also the last:"
   ]
  },
  {
   "cell_type": "code",
   "execution_count": 20,
   "id": "579e0285",
   "metadata": {
    "slideshow": {
     "slide_type": "fragment"
    }
   },
   "outputs": [
    {
     "name": "stdout",
     "output_type": "stream",
     "text": [
      "geometry column is a <class 'geopandas.geoseries.GeoSeries'>\n",
      "geometry column dtype is 'geometry'\n",
      "geometry column values are <class 'shapely.geometry.polygon.Polygon'>\n",
      "First value in geometry column is 'POLYGON ((-120.41793799999999 34.938341, -120.417658 34.938345, -120.417651 34.938141, -120.417653 34.937878, -120.417676 34.934903999999996, -120.417663 34.933613, -120.417676 34.931103, -120.417678 34.930895, -120.417705 34.927213, -120.417722 34.926437, -120.417731 34.923606, -120.41803999999999 34.923612999999996, -120.41860299999999 34.923622, -120.418717 34.923662, -120.418737 34.923663, -120.418865 34.923671, -120.41922199999999 34.923680999999995, -120.420432 34.923702999999996, -120.421975 34.923715, -120.423085 34.923724, -120.424616 34.923738, -120.42507 34.923742, -120.425623 34.923747, -120.42685399999999 34.923758, -120.427108 34.923745, -120.427221 34.923739, -120.42825500000001 34.923615, -120.428583 34.923555, -120.428939 34.923459, -120.429573 34.923277, -120.430003 34.923125999999996, -120.430398 34.922965999999995, -120.431205 34.922618, -120.431329 34.922567, -120.43318099999999 34.92165, -120.433908 34.921305, -120.434326 34.921123, -120.434553 34.921048, -120.434872 34.920972, -120.43508800000001 34.920930999999996, -120.435534 34.92089, -120.435934 34.920884, -120.435925 34.922081, -120.435922 34.924814999999995, -120.435931 34.92659, -120.43594 34.929882, -120.435924 34.931505, -120.435908 34.934061, -120.435907 34.93418, -120.43592 34.937449, -120.435931 34.938435999999996, -120.43593899999999 34.93855, -120.434373 34.938537, -120.43320299999999 34.938538, -120.432398 34.938534, -120.431651 34.938539999999996, -120.431549 34.938537, -120.42795 34.938469, -120.427072 34.938462, -120.42678000000001 34.938459, -120.426725 34.938458, -120.424892 34.938437, -120.42321799999999 34.938421, -120.422649 34.938406, -120.421599 34.938387999999996, -120.419524 34.938371, -120.419389 34.938369, -120.418154 34.938379999999995, -120.417959 34.938341, -120.41793799999999 34.938341))'\n"
     ]
    }
   ],
   "source": [
    "col = \"geometry\"\n",
    "print(\"{0} column is a {1}\".format(col, type(tracts[col])))\n",
    "print(\"{0} column dtype is '{1}'\".format(col, tracts[col].dtype))\n",
    "print(\"{0} column values are {1}\".format(col, type(tracts[col][0])))\n",
    "print(\"First value in {0} column is '{1}'\".format(col, tracts[col][0]))\n",
    "\n",
    "#a linestring is a sequence of points, and a polygon is a linestring where the first point is the same as the last"
   ]
  },
  {
   "cell_type": "markdown",
   "id": "ec32aa52",
   "metadata": {
    "slideshow": {
     "slide_type": "slide"
    }
   },
   "source": [
    "## 4.5. Performing a spatial join\n",
    "Because a `GeoDataFrame` must have a geometry column, two GeoDataFrames can always be merged using syntax that should look familiar from `pandas.merge()`:\n"
   ]
  },
  {
   "cell_type": "code",
   "execution_count": 21,
   "id": "5ce1a130",
   "metadata": {
    "slideshow": {
     "slide_type": "fragment"
    }
   },
   "outputs": [
    {
     "name": "stderr",
     "output_type": "stream",
     "text": [
      "C:\\Users\\jffin\\AppData\\Local\\Temp\\ipykernel_32600\\1216773608.py:1: UserWarning: CRS mismatch between the CRS of left geometries and the CRS of right geometries.\n",
      "Use `to_crs()` to reproject one of the input geometries to match the CRS of the other.\n",
      "\n",
      "Left CRS: EPSG:4326\n",
      "Right CRS: EPSG:4269\n",
      "\n",
      "  merged = gpd.sjoin(storefronts, tracts, how='inner', op='contains')  #left table is storefronts, right is census tracts,\n"
     ]
    }
   ],
   "source": [
    "merged = gpd.sjoin(storefronts, tracts, how='inner', op='contains')  #left table is storefronts, right is census tracts,\n",
    "#telling it to do an inner join. Op stands for operations -- newer version of geopandas calls this a predicate. This tells what operation\n",
    "#to use to perform the merge. 'Contains' operation doesn't work here because a point cannot contain a polygon.\n",
    "#other operations are intersects, e.g."
   ]
  },
  {
   "cell_type": "markdown",
   "id": "ebe5ef6e",
   "metadata": {
    "slideshow": {
     "slide_type": "slide"
    }
   },
   "source": [
    "<img src=\"https://i.kym-cdn.com/photos/images/original/001/705/934/3a7.jpg\">"
   ]
  },
  {
   "cell_type": "markdown",
   "id": "ebe82489",
   "metadata": {
    "slideshow": {
     "slide_type": "slide"
    }
   },
   "source": [
    "### 4.5.2. Reprojection"
   ]
  },
  {
   "cell_type": "markdown",
   "id": "32794084",
   "metadata": {
    "slideshow": {
     "slide_type": "fragment"
    }
   },
   "source": [
    "**GeoDataFrames must share a CRS in order to properly perform a spatial join**. Fortunately, its easy enough to convert _from_ any _to_ any CRS using a process called **reprojection**. With GeoPandas, all you need to provide is the name of the new CRS you want (and sometimes the name of the current CRS if it is not explicitly defined). If the CRS is kind of close it might still kind of work, but won't give you the true spatial merge that you want. "
   ]
  },
  {
   "cell_type": "code",
   "execution_count": 22,
   "id": "09429595",
   "metadata": {
    "slideshow": {
     "slide_type": "fragment"
    }
   },
   "outputs": [
    {
     "name": "stdout",
     "output_type": "stream",
     "text": [
      "epsg:4326\n",
      "epsg:4269\n",
      "<class 'pyproj.crs.crs.CRS'>\n",
      "ellipsoidal\n"
     ]
    }
   ],
   "source": [
    "print(storefronts.crs) #printing out contextual info about the CRS of the storefronts dataframe\n",
    "print(tracts.crs) #printing out contextual info about the CRS of the tracts dataframe\n",
    "print(type(tracts.crs))\n",
    "print(tracts.crs.coordinate_system)\n",
    "storefronts_proj = storefronts.to_crs(tracts.crs)  #to convert from one CRS to another, can pass the attribute of one dataframe into the other\n",
    "\n",
    "#reason why the join didn't work is that the two datasets are using two different CRS. \n",
    "#  .crs.coordinate_system is very useful\n",
    "# .ellipsoid (double-check this syntax!) can gve you some info too\n"
   ]
  },
  {
   "cell_type": "markdown",
   "id": "36827b9c",
   "metadata": {
    "slideshow": {
     "slide_type": "slide"
    }
   },
   "source": [
    "**NOTE:** if `storefronts.crs` happened to be empty or `None` (i.e., didn't have a CRS specified), you would need to first assume/guess and define/assign a CRS for it before performing a spatial join. If the coordinates look like degrees of lat/lon, then `epsg:4326` (WGS84) is a good bet. To assign a CRS to a GeoDataFrame which has none, you can do:\n",
    "```python\n",
    "storefronts.crs = {'init': 'epsg:4326'} #uses dictionary constructor and assignment to set CRS equal to this dictionary.\n",
    "```\n",
    "Or if you think it is the same CRS as another dataset, you can just set them equal without performing a transformation:\n",
    "```python\n",
    "storefronts.crs = tracts.crs #if you are confident they are cloes enough for difference to not really matter, can set the CRS for the one you don't know to the other. But in general want to use the .to_CRS()\n",
    "```"
   ]
  },
  {
   "cell_type": "markdown",
   "id": "78464483",
   "metadata": {
    "slideshow": {
     "slide_type": "slide"
    }
   },
   "source": [
    "### 4.5.3. A proper spatial join"
   ]
  },
  {
   "cell_type": "code",
   "execution_count": 23,
   "id": "4d82bfb4",
   "metadata": {
    "slideshow": {
     "slide_type": "fragment"
    }
   },
   "outputs": [
    {
     "name": "stdout",
     "output_type": "stream",
     "text": [
      "CPU times: total: 2.45 s\n",
      "Wall time: 2.46 s\n"
     ]
    }
   ],
   "source": [
    "%%time\n",
    "merged = gpd.sjoin(storefronts_proj[['CITY','ZIP','geometry']],\n",
    "                   tracts[['GEOID10','geometry']], \n",
    "                   how='inner', \n",
    "                   op='intersects')"
   ]
  },
  {
   "cell_type": "markdown",
   "id": "b0764f70",
   "metadata": {
    "slideshow": {
     "slide_type": "fragment"
    }
   },
   "source": [
    "A few things to notice in the previous cell:\n",
    "  1. There is no `on=` argument. `sjoin()` knows to merge on the geometry column only. #even in documentation, nowhere to specify an on/key column for join. The only one to merge on is the geometry column.\n",
    "  2. `op` argument defines the type of spatial operation or \"query\" to perform\n",
    "    - in GeoPandas >= 10.0, ~`op`~ $\\rightarrow$ `predicate`"
   ]
  },
  {
   "cell_type": "markdown",
   "id": "5a98a46c",
   "metadata": {
    "slideshow": {
     "slide_type": "slide"
    }
   },
   "source": [
    "You can get the list of all valid operations/query predicates using:\n",
    "\n",
    "- intersects is most common; also the default if you don't specify an operation. If any like contains, covers, crosses, etc., intersect will return true"
   ]
  },
  {
   "cell_type": "code",
   "execution_count": 24,
   "id": "22ad898f",
   "metadata": {
    "slideshow": {
     "slide_type": "fragment"
    }
   },
   "outputs": [
    {
     "data": {
      "text/plain": [
       "{None,\n",
       " 'contains',\n",
       " 'contains_properly',\n",
       " 'covers',\n",
       " 'crosses',\n",
       " 'intersects',\n",
       " 'overlaps',\n",
       " 'touches',\n",
       " 'within'}"
      ]
     },
     "execution_count": 24,
     "metadata": {},
     "output_type": "execute_result"
    }
   ],
   "source": [
    "storefronts_proj.sindex.valid_query_predicates"
   ]
  },
  {
   "cell_type": "markdown",
   "id": "3b2ed77a",
   "metadata": {
    "slideshow": {
     "slide_type": "fragment"
    }
   },
   "source": [
    "These names refer to methods defined in Shapely. You can read about each of them in the Shapely docs [here](https://shapely.readthedocs.io/en/latest/manual.html#binary-predicates). In general, they are what they sound like, and they evaluate to booleans. They work a little bit like left/right joins in that order matters. For example:\n",
    "```\n",
    "left.contains(right) == right.within(left)\n",
    "```"
   ]
  },
  {
   "cell_type": "markdown",
   "id": "99f0a578",
   "metadata": {
    "slideshow": {
     "slide_type": "slide"
    }
   },
   "source": [
    "### 4.5.4. Details of spatial joins\n",
    "Let's take a look at our new merged table:"
   ]
  },
  {
   "cell_type": "code",
   "execution_count": 25,
   "id": "a5c78311",
   "metadata": {
    "slideshow": {
     "slide_type": "fragment"
    }
   },
   "outputs": [
    {
     "data": {
      "text/html": [
       "<div>\n",
       "<style scoped>\n",
       "    .dataframe tbody tr th:only-of-type {\n",
       "        vertical-align: middle;\n",
       "    }\n",
       "\n",
       "    .dataframe tbody tr th {\n",
       "        vertical-align: top;\n",
       "    }\n",
       "\n",
       "    .dataframe thead th {\n",
       "        text-align: right;\n",
       "    }\n",
       "</style>\n",
       "<table border=\"1\" class=\"dataframe\">\n",
       "  <thead>\n",
       "    <tr style=\"text-align: right;\">\n",
       "      <th></th>\n",
       "      <th>CITY</th>\n",
       "      <th>ZIP</th>\n",
       "      <th>geometry</th>\n",
       "      <th>index_right</th>\n",
       "      <th>GEOID10</th>\n",
       "    </tr>\n",
       "  </thead>\n",
       "  <tbody>\n",
       "    <tr>\n",
       "      <th>0</th>\n",
       "      <td>Woodacre</td>\n",
       "      <td>94973</td>\n",
       "      <td>POINT (-122.64046 38.01412)</td>\n",
       "      <td>2890</td>\n",
       "      <td>06041113000</td>\n",
       "    </tr>\n",
       "    <tr>\n",
       "      <th>37</th>\n",
       "      <td>Lagunitas</td>\n",
       "      <td>94938</td>\n",
       "      <td>POINT (-122.69903 38.01327)</td>\n",
       "      <td>2890</td>\n",
       "      <td>06041113000</td>\n",
       "    </tr>\n",
       "    <tr>\n",
       "      <th>4804</th>\n",
       "      <td>Forest Knolls</td>\n",
       "      <td>94933</td>\n",
       "      <td>POINT (-122.69261 38.01521)</td>\n",
       "      <td>2890</td>\n",
       "      <td>06041113000</td>\n",
       "    </tr>\n",
       "    <tr>\n",
       "      <th>5065</th>\n",
       "      <td>Lagunitas</td>\n",
       "      <td>94938</td>\n",
       "      <td>POINT (-122.69894 38.01330)</td>\n",
       "      <td>2890</td>\n",
       "      <td>06041113000</td>\n",
       "    </tr>\n",
       "    <tr>\n",
       "      <th>5066</th>\n",
       "      <td>Forest Knolls</td>\n",
       "      <td>94933</td>\n",
       "      <td>POINT (-122.69361 38.01517)</td>\n",
       "      <td>2890</td>\n",
       "      <td>06041113000</td>\n",
       "    </tr>\n",
       "  </tbody>\n",
       "</table>\n",
       "</div>"
      ],
      "text/plain": [
       "               CITY    ZIP                     geometry  index_right  \\\n",
       "0          Woodacre  94973  POINT (-122.64046 38.01412)         2890   \n",
       "37        Lagunitas  94938  POINT (-122.69903 38.01327)         2890   \n",
       "4804  Forest Knolls  94933  POINT (-122.69261 38.01521)         2890   \n",
       "5065      Lagunitas  94938  POINT (-122.69894 38.01330)         2890   \n",
       "5066  Forest Knolls  94933  POINT (-122.69361 38.01517)         2890   \n",
       "\n",
       "          GEOID10  \n",
       "0     06041113000  \n",
       "37    06041113000  \n",
       "4804  06041113000  \n",
       "5065  06041113000  \n",
       "5066  06041113000  "
      ]
     },
     "execution_count": 25,
     "metadata": {},
     "output_type": "execute_result"
    }
   ],
   "source": [
    "merged.head()"
   ]
  },
  {
   "cell_type": "markdown",
   "id": "c691145f",
   "metadata": {
    "slideshow": {
     "slide_type": "slide"
    }
   },
   "source": [
    "It looks like we merged a dataset of `Point` objects with a dataset of `Polygon` types and got a dataset of `Point`s returned. This is because `sjoin()` will **always return a merged `GeoDataFrame` of the same type as the first or \"left\" `GeoDataFrame`** in the merge. If we wanted to preserve the tract geometries, we could have done: "
   ]
  },
  {
   "cell_type": "code",
   "execution_count": 26,
   "id": "edf6d844",
   "metadata": {
    "slideshow": {
     "slide_type": "fragment"
    }
   },
   "outputs": [],
   "source": [
    "merged2 = gpd.sjoin(\n",
    "    tracts[['GEOID10','geometry']],\n",
    "    storefronts_proj[['CITY','ZIP','geometry']],\n",
    "    how='inner', \n",
    "    op='intersects')"
   ]
  },
  {
   "cell_type": "code",
   "execution_count": 27,
   "id": "2b394ef6",
   "metadata": {
    "slideshow": {
     "slide_type": "fragment"
    }
   },
   "outputs": [
    {
     "data": {
      "text/html": [
       "<div>\n",
       "<style scoped>\n",
       "    .dataframe tbody tr th:only-of-type {\n",
       "        vertical-align: middle;\n",
       "    }\n",
       "\n",
       "    .dataframe tbody tr th {\n",
       "        vertical-align: top;\n",
       "    }\n",
       "\n",
       "    .dataframe thead th {\n",
       "        text-align: right;\n",
       "    }\n",
       "</style>\n",
       "<table border=\"1\" class=\"dataframe\">\n",
       "  <thead>\n",
       "    <tr style=\"text-align: right;\">\n",
       "      <th></th>\n",
       "      <th>GEOID10</th>\n",
       "      <th>geometry</th>\n",
       "      <th>index_right</th>\n",
       "      <th>CITY</th>\n",
       "      <th>ZIP</th>\n",
       "    </tr>\n",
       "  </thead>\n",
       "  <tbody>\n",
       "    <tr>\n",
       "      <th>2850</th>\n",
       "      <td>06041102202</td>\n",
       "      <td>POLYGON ((-122.60183 38.11364, -122.60219 38.1...</td>\n",
       "      <td>19674</td>\n",
       "      <td>Novato</td>\n",
       "      <td>94945</td>\n",
       "    </tr>\n",
       "    <tr>\n",
       "      <th>2850</th>\n",
       "      <td>06041102202</td>\n",
       "      <td>POLYGON ((-122.60183 38.11364, -122.60219 38.1...</td>\n",
       "      <td>12349</td>\n",
       "      <td>Novato</td>\n",
       "      <td>94945</td>\n",
       "    </tr>\n",
       "    <tr>\n",
       "      <th>2850</th>\n",
       "      <td>06041102202</td>\n",
       "      <td>POLYGON ((-122.60183 38.11364, -122.60219 38.1...</td>\n",
       "      <td>22</td>\n",
       "      <td>Novato</td>\n",
       "      <td>94945</td>\n",
       "    </tr>\n",
       "    <tr>\n",
       "      <th>2850</th>\n",
       "      <td>06041102202</td>\n",
       "      <td>POLYGON ((-122.60183 38.11364, -122.60219 38.1...</td>\n",
       "      <td>4837</td>\n",
       "      <td>Novato</td>\n",
       "      <td>94945</td>\n",
       "    </tr>\n",
       "    <tr>\n",
       "      <th>2850</th>\n",
       "      <td>06041102202</td>\n",
       "      <td>POLYGON ((-122.60183 38.11364, -122.60219 38.1...</td>\n",
       "      <td>12179</td>\n",
       "      <td>Novato</td>\n",
       "      <td>94945</td>\n",
       "    </tr>\n",
       "  </tbody>\n",
       "</table>\n",
       "</div>"
      ],
      "text/plain": [
       "          GEOID10                                           geometry  \\\n",
       "2850  06041102202  POLYGON ((-122.60183 38.11364, -122.60219 38.1...   \n",
       "2850  06041102202  POLYGON ((-122.60183 38.11364, -122.60219 38.1...   \n",
       "2850  06041102202  POLYGON ((-122.60183 38.11364, -122.60219 38.1...   \n",
       "2850  06041102202  POLYGON ((-122.60183 38.11364, -122.60219 38.1...   \n",
       "2850  06041102202  POLYGON ((-122.60183 38.11364, -122.60219 38.1...   \n",
       "\n",
       "      index_right    CITY    ZIP  \n",
       "2850        19674  Novato  94945  \n",
       "2850        12349  Novato  94945  \n",
       "2850           22  Novato  94945  \n",
       "2850         4837  Novato  94945  \n",
       "2850        12179  Novato  94945  "
      ]
     },
     "execution_count": 27,
     "metadata": {},
     "output_type": "execute_result"
    }
   ],
   "source": [
    "merged2.head()"
   ]
  },
  {
   "cell_type": "markdown",
   "id": "ca82fe66",
   "metadata": {
    "slideshow": {
     "slide_type": "fragment"
    }
   },
   "source": [
    "See the [docs](https://geopandas.org/mergingdata.html#spatial-joins) on `gpd.sjoin()` for more details"
   ]
  },
  {
   "cell_type": "markdown",
   "id": "e6c5194a",
   "metadata": {
    "slideshow": {
     "slide_type": "slide"
    }
   },
   "source": [
    "## 4.6. Analyzing the merged data"
   ]
  },
  {
   "cell_type": "markdown",
   "id": "cdda669a",
   "metadata": {
    "slideshow": {
     "slide_type": "fragment"
    }
   },
   "source": [
    "### 4.6.1. Descriptive Statistics\n",
    "\n",
    "Now that we have a Census Tract ID associated with each of the storefronts, we can analyze that information just like in Pandas.\n",
    "\n",
    "For example, we know that Census Tracts all have a roughly similar residential population. How much do they vary in number of storefronts?"
   ]
  },
  {
   "cell_type": "code",
   "execution_count": 28,
   "id": "e83cc7a7",
   "metadata": {
    "slideshow": {
     "slide_type": "fragment"
    }
   },
   "outputs": [],
   "source": [
    "stores_per_tract = merged2.groupby('GEOID10').index_right.count().reset_index()"
   ]
  },
  {
   "cell_type": "markdown",
   "id": "9bd95716",
   "metadata": {
    "slideshow": {
     "slide_type": "slide"
    }
   },
   "source": [
    "### 4.6.2. Built-in plotting\n",
    "\n",
    "And just like pandas, GeoPandas has plotting functionality built-in and it's super cool:"
   ]
  },
  {
   "cell_type": "code",
   "execution_count": 29,
   "id": "27637dcb",
   "metadata": {},
   "outputs": [],
   "source": [
    "from matplotlib import pyplot as plt"
   ]
  },
  {
   "cell_type": "code",
   "execution_count": 30,
   "id": "e5fe5252",
   "metadata": {
    "scrolled": false,
    "slideshow": {
     "slide_type": "slide"
    }
   },
   "outputs": [
    {
     "data": {
      "text/plain": [
       "<AxesSubplot:>"
      ]
     },
     "execution_count": 30,
     "metadata": {},
     "output_type": "execute_result"
    },
    {
     "data": {
      "image/png": "[encoded data removed]",
      "text/plain": [
       "<Figure size 720x720 with 1 Axes>"
      ]
     },
     "metadata": {
      "needs_background": "light"
     },
     "output_type": "display_data"
    }
   ],
   "source": [
    "fig, ax = plt.subplots(figsize=(10,10))\n",
    "merged2.drop_duplicates('GEOID10').plot(ax=ax, color='none', edgecolor='k', linewidth=.2) #dropping duplicate shapes from \n",
    "#new merge table, #setting fill color to none, edge color to black, and line width to .2\n",
    "storefronts.plot(ax=ax, color='r', markersize=.1, alpha=0.2) #fill color is red\n",
    "\n",
    "#this filters out all of the points that don't intersect (?) could be easier if we want to figure out, \n",
    "#e.g., points per unit area"
   ]
  },
  {
   "cell_type": "markdown",
   "id": "81242953",
   "metadata": {
    "slideshow": {
     "slide_type": "slide"
    }
   },
   "source": [
    "Let's convert our tract geometries to a projected coordinate system and compare to the original:"
   ]
  },
  {
   "cell_type": "code",
   "execution_count": 31,
   "id": "022ecc73",
   "metadata": {
    "slideshow": {
     "slide_type": "fragment"
    }
   },
   "outputs": [],
   "source": [
    "sf_tract_mask = merged2['GEOID10'].str[:5] == '06075'  #just have SF tracts (does that using SF county ID from geoID)\n",
    "sf_tracts = merged2[sf_tract_mask].drop_duplicates('GEOID10') \n",
    "sf_tracts_proj = sf_tracts.to_crs('epsg:2768') #converting it to new CRS that is a local coordinate system that covers bay area in the cartesian system"
   ]
  },
  {
   "cell_type": "code",
   "execution_count": 32,
   "id": "2a0aa129",
   "metadata": {
    "slideshow": {
     "slide_type": "slide"
    }
   },
   "outputs": [
    {
     "data": {
      "text/plain": [
       "CS[ellipsoidal,2],\n",
       "    AXIS[\"geodetic latitude (Lat)\",north,\n",
       "        ORDER[1],\n",
       "        ANGLEUNIT[\"degree\",0.0174532925199433,\n",
       "            ID[\"EPSG\",9122]]],\n",
       "    AXIS[\"geodetic longitude (Lon)\",east,\n",
       "        ORDER[2],\n",
       "        ANGLEUNIT[\"degree\",0.0174532925199433,\n",
       "            ID[\"EPSG\",9122]]]"
      ]
     },
     "execution_count": 32,
     "metadata": {},
     "output_type": "execute_result"
    }
   ],
   "source": [
    "sf_tracts.crs.coordinate_system"
   ]
  },
  {
   "cell_type": "code",
   "execution_count": 33,
   "id": "ef8d9e2f",
   "metadata": {
    "slideshow": {
     "slide_type": "fragment"
    }
   },
   "outputs": [
    {
     "data": {
      "text/plain": [
       "CS[Cartesian,2],\n",
       "    AXIS[\"easting (X)\",east,\n",
       "        ORDER[1],\n",
       "        LENGTHUNIT[\"metre\",1,\n",
       "            ID[\"EPSG\",9001]]],\n",
       "    AXIS[\"northing (Y)\",north,\n",
       "        ORDER[2],\n",
       "        LENGTHUNIT[\"metre\",1,\n",
       "            ID[\"EPSG\",9001]]]"
      ]
     },
     "execution_count": 33,
     "metadata": {},
     "output_type": "execute_result"
    }
   ],
   "source": [
    "sf_tracts_proj.crs.coordinate_system"
   ]
  },
  {
   "cell_type": "code",
   "execution_count": 34,
   "id": "2b30c632",
   "metadata": {
    "slideshow": {
     "slide_type": "slide"
    }
   },
   "outputs": [
    {
     "data": {
      "text/plain": [
       "Text(0.5, 1.0, 'NAD83(HARN) / California zone 3()')"
      ]
     },
     "execution_count": 34,
     "metadata": {},
     "output_type": "execute_result"
    },
    {
     "data": {
      "image/png": "[encoded data removed]",
      "text/plain": [
       "<Figure size 1152x720 with 2 Axes>"
      ]
     },
     "metadata": {
      "needs_background": "light"
     },
     "output_type": "display_data"
    }
   ],
   "source": [
    "fig, ax = plt.subplots(1,2, figsize=(16,10))\n",
    "sf_tracts.plot(ax=ax[0], color='none', edgecolor='k', linewidth=.5)\n",
    "sf_tracts_proj.plot(ax=ax[1], color='none', edgecolor='k', linewidth=.5)\n",
    "\n",
    "ax[0].set_title(sf_tracts.crs.name + \"()\".format(sf_tracts.crs.coordinate_system.name))\n",
    "ax[1].set_title(sf_tracts_proj.crs.name + \"()\".format(sf_tracts_proj.crs.coordinate_system.name))\n",
    "#this compares what SF county census tracts look like in two coordinate systems. They look very close, but not quite the same. "
   ]
  },
  {
   "cell_type": "code",
   "execution_count": 35,
   "id": "6dc27bba",
   "metadata": {},
   "outputs": [
    {
     "data": {
      "text/plain": [
       "5252    370407.698683\n",
       "5253    309053.380557\n",
       "5254    245831.456045\n",
       "5255    368852.744152\n",
       "5256    158214.501068\n",
       "            ...      \n",
       "5534    631119.963760\n",
       "5535    469462.420007\n",
       "5536    294151.377301\n",
       "5537    490625.977452\n",
       "5538    343121.624415\n",
       "Length: 183, dtype: float64"
      ]
     },
     "execution_count": 35,
     "metadata": {},
     "output_type": "execute_result"
    }
   ],
   "source": [
    "sf_tracts_proj.area\n",
    "\n",
    "#here we know we are in square meters"
   ]
  },
  {
   "cell_type": "markdown",
   "id": "04f1efe1",
   "metadata": {
    "slideshow": {
     "slide_type": "slide"
    }
   },
   "source": [
    "## 4.5. Geometric manipulations in practice"
   ]
  },
  {
   "cell_type": "code",
   "execution_count": 36,
   "id": "45ff9939",
   "metadata": {
    "slideshow": {
     "slide_type": "fragment"
    }
   },
   "outputs": [],
   "source": [
    "tract = sf_tracts_proj.sample(1)  #this is sampling one tract"
   ]
  },
  {
   "cell_type": "code",
   "execution_count": 37,
   "id": "83a632fd",
   "metadata": {
    "slideshow": {
     "slide_type": "fragment"
    }
   },
   "outputs": [
    {
     "data": {
      "text/plain": [
       "<AxesSubplot:>"
      ]
     },
     "execution_count": 37,
     "metadata": {},
     "output_type": "execute_result"
    },
    {
     "data": {
      "image/png": "[encoded data removed]",
      "text/plain": [
       "<Figure size 720x576 with 1 Axes>"
      ]
     },
     "metadata": {
      "needs_background": "light"
     },
     "output_type": "display_data"
    }
   ],
   "source": [
    "fig, ax = plt.subplots(figsize=(10,8))\n",
    "tract.plot(color='none', edgecolor='k', ax=ax) #plots the outline of the tract\n",
    "# tract.centroid.plot(color='k', ax=ax, marker='x')\n",
    "# tract.buffer(200).plot(ax=ax, color='none', edgecolor='b') #Can make a buffer. since now in meters, this is 200m\n",
    "# tract.convex_hull.plot(ax=ax, color='r', alpha=.4) #a convex hull is the minimum polygon you can draw where all \n",
    "                                                     #of the angles are convex angles. Useful if you have a river feature, e.g.,\n",
    "    #and you want to know the buildable land around the river, river would be stored as a line but might want to buffer around \n",
    "    #the line based on flooding expectations"
   ]
  },
  {
   "cell_type": "markdown",
   "id": "f5315180",
   "metadata": {},
   "source": [
    "Summary\n",
    "- CRS: GCS vs. PCS\n",
    "- points, lines, and polygons\n",
    "- Spatial joins: merge data on geography\n",
    "    - binary predicates (e.g., intersects, touches, within)\n",
    "    - TKTKT\n",
    "    - TKTK"
   ]
  },
  {
   "cell_type": "markdown",
   "id": "d0df3271",
   "metadata": {
    "slideshow": {
     "slide_type": "slide"
    }
   },
   "source": [
    "## 4.7. Exercises\n",
    "\n",
    "Try loading another spatial dataset into GeoPandas. (If you don't have any handy from your project, you could use the earthquake data from earlier demos.)\n",
    "\n",
    "- What are the data types? Do basic operations like getting descriptive statistics work ok?\n",
    "\n",
    "- Do the coordinates look like lat-lon, or are they other units? What's the coordinate reference system?\n",
    "\n",
    "- Try doing a spatial join. For example, here's some built-in data about countries that you could merge with the earthquakes:\n",
    "\n",
    "  ```python\n",
    "  world = gpd.read_file(gpd.datasets.get_path('naturalearth_lowres'))\n",
    "  ```"
   ]
  },
  {
   "cell_type": "markdown",
   "id": "1ffbf6f6",
   "metadata": {
    "slideshow": {
     "slide_type": "slide"
    }
   },
   "source": [
    "# 5. For next time\n",
    "- install geopandas, OSMnx, PySAL\n",
    "- get started on GitHub Pages page!"
   ]
  },
  {
   "cell_type": "markdown",
   "id": "4ea0b2f7",
   "metadata": {
    "hide_input": false,
    "slideshow": {
     "slide_type": "slide"
    }
   },
   "source": [
    "# 6. Questions?"
   ]
  },
  {
   "cell_type": "markdown",
   "id": "66cd044d",
   "metadata": {},
   "source": [
    "# Sources\n",
    "\n",
    "- This notebook was heavily adapted from previous course material by [Prof. Paul Waddell](https://urbansim.com/people) and [Samuel Maurer](http://samuelmaurer.info/).\n",
    "- A lot of the geodesy material came from [here](http://www.geo.hunter.cuny.edu/~jochen/gtech201/lectures/lec6concepts/Datums/Components%20of%20a%20datum.htm)"
   ]
  }
 ],
 "metadata": {
  "celltoolbar": "Slideshow",
  "kernelspec": {
   "display_name": "Python [conda env:cyplan255] *",
   "language": "python",
   "name": "conda-env-cyplan255-py"
  },
  "language_info": {
   "codemirror_mode": {
    "name": "ipython",
    "version": 3
   },
   "file_extension": ".py",
   "mimetype": "text/x-python",
   "name": "python",
   "nbconvert_exporter": "python",
   "pygments_lexer": "ipython3",
   "version": "3.10.2"
  },
  "toc": {
   "base_numbering": 1,
   "nav_menu": {},
   "number_sections": false,
   "sideBar": false,
   "skip_h1_title": false,
   "title_cell": "Table of Contents",
   "title_sidebar": "Contents",
   "toc_cell": false,
   "toc_position": {},
   "toc_section_display": true,
   "toc_window_display": false
  }
 },
 "nbformat": 4,
 "nbformat_minor": 5
}
