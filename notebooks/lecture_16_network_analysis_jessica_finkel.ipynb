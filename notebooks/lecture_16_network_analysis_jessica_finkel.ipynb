{
 "cells": [
  {
   "cell_type": "markdown",
   "id": "b40ef5a4",
   "metadata": {
    "slideshow": {
     "slide_type": "slide"
    }
   },
   "source": [
    "# CYPLAN255\n",
    "### Urban Informatics and Visualization"
   ]
  },
  {
   "cell_type": "markdown",
   "id": "2adc2c5d",
   "metadata": {
    "slideshow": {
     "slide_type": "slide"
    }
   },
   "source": [
    "HIT RECORD and TRANSCRIBE"
   ]
  },
  {
   "cell_type": "markdown",
   "id": "0ceea7a8",
   "metadata": {
    "slideshow": {
     "slide_type": "slide"
    }
   },
   "source": [
    "# Lecture 16 -- Network Analysis\n",
    "******\n",
    "March 28, 2022\n",
    "\n",
    "<img src=\"https://s2.glbimg.com/J-25mCP-cFAvRrptFD-RDJY8O2M=/0x0:1008x1043/1008x0/smart/filters:strip_icc()/i.s3.glbimg.com/v1/AUTH_59edd422c0c84a879bd37670ae4f538a/internal_photos/bs/2021/H/s/UoNwPLQmOVFCQyTJIFBQ/19chuva.jpg\" width=500 align='right' title='Crianças na chuva. Carla Vieira, 2021.'>"
   ]
  },
  {
   "cell_type": "markdown",
   "id": "75f7d376",
   "metadata": {
    "slideshow": {
     "slide_type": "slide"
    }
   },
   "source": [
    "# Agenda\n",
    "1. Announcements\n",
    "2. Why networks?\n",
    "3. Pandana\n",
    "4. OSMnx\n",
    "5. For next time\n",
    "6. Questions\n"
   ]
  },
  {
   "cell_type": "markdown",
   "id": "cec1cb2e",
   "metadata": {
    "slideshow": {
     "slide_type": "slide"
    }
   },
   "source": [
    "# 1. Announcements"
   ]
  },
  {
   "cell_type": "markdown",
   "id": "8e5d336f",
   "metadata": {
    "slideshow": {
     "slide_type": "fragment"
    }
   },
   "source": [
    "- None!"
   ]
  },
  {
   "cell_type": "markdown",
   "id": "677816d0",
   "metadata": {
    "slideshow": {
     "slide_type": "slide"
    }
   },
   "source": [
    "# 2. Network data: not just for transportation planning!"
   ]
  },
  {
   "cell_type": "markdown",
   "id": "6bcace60",
   "metadata": {
    "slideshow": {
     "slide_type": "slide"
    }
   },
   "source": [
    "## 2.1. Review: Berkeley BART distances"
   ]
  },
  {
   "cell_type": "markdown",
   "id": "d50b740e",
   "metadata": {
    "slideshow": {
     "slide_type": "fragment"
    }
   },
   "source": [
    "If you made it to the end of the lecture 14 notebook, you would have seen this image:\n",
    "<img src=\"images/berkeley_bart.png\">"
   ]
  },
  {
   "cell_type": "markdown",
   "id": "7c08579f",
   "metadata": {},
   "source": [
    "This was the end of the geopandas unit. "
   ]
  },
  {
   "cell_type": "markdown",
   "id": "301846d6",
   "metadata": {
    "slideshow": {
     "slide_type": "fragment"
    }
   },
   "source": [
    "This was the final step in a geopandas workflow in which we computed distance to the nearest BART station for every Census Block in Berkeley. If you didn't get that far in the notebook, it would be a good idea to spend some time working through it on your own."
   ]
  },
  {
   "cell_type": "markdown",
   "id": "02e667b7",
   "metadata": {
    "slideshow": {
     "slide_type": "slide"
    }
   },
   "source": [
    "## 2.2. Accessibility"
   ]
  },
  {
   "cell_type": "markdown",
   "id": "7c1d99af",
   "metadata": {
    "slideshow": {
     "slide_type": "fragment"
    }
   },
   "source": [
    "- Our investigation of distance-to-BART investigation is a rudimentary example of accessibility analysis\n",
    "- **Accessibility** is a very important, but broadly defined, topic in land use and transportation planning\n",
    "- In general, accessibility is a conceptual framework for thinking about:\n",
    "  - distribution of amenities/opportunities in space\n",
    "  - relative ease/difficulty of reaching these resources\n",
    "  - equity/justice-oriented issues relating to the built environment"
   ]
  },
  {
   "cell_type": "markdown",
   "id": "3fec0f5c",
   "metadata": {
    "slideshow": {
     "slide_type": "slide"
    }
   },
   "source": [
    "**Question:** How do you measure accessibility?"
   ]
  },
  {
   "cell_type": "markdown",
   "id": "29d449d2",
   "metadata": {
    "slideshow": {
     "slide_type": "fragment"
    }
   },
   "source": [
    "- There is no one right way:\n",
    "  - Attribute of what?\n",
    "      - geography\n",
    "      - population\n",
    "  - Aggregate or singular?\n",
    "    - one-to-one (e.g. shortest path)\n",
    "    - many-to-one (e.g. nearest neighbor)\n",
    "    - one-to-many (e.g. cumulative opportunities)\n",
    "  - Unit of measure?\n",
    "    - impedances (e.g. distance, time, cost)\n",
    "    - density (# of places per unit area)"
   ]
  },
  {
   "cell_type": "markdown",
   "id": "9a5e2bbe",
   "metadata": {
    "slideshow": {
     "slide_type": "slide"
    }
   },
   "source": [
    "**Question:** What made the BART distance analysis \"rudimentary\"?"
   ]
  },
  {
   "cell_type": "markdown",
   "id": "a5f1a6ae",
   "metadata": {
    "slideshow": {
     "slide_type": "fragment"
    }
   },
   "source": [
    "A more realistic approach would make use of the geometries of the paths that people actually traverse. (vs the map above is \"as the crow flies\" distances)"
   ]
  },
  {
   "cell_type": "markdown",
   "id": "78abb239",
   "metadata": {
    "slideshow": {
     "slide_type": "slide"
    }
   },
   "source": [
    "## 2.3. Cue...networks!\n",
    "\n",
    "<img src=\"https://biohaviour.com/wp-content/uploads/2020/11/SlimeMold.gif\" align=\"right\">"
   ]
  },
  {
   "cell_type": "markdown",
   "id": "39994ed2",
   "metadata": {},
   "source": [
    "gif above is a slime mold! it shows points on tokyo public transit system, and it was able to predict actual subway network in Tokyo pretty accurately just because the organism is good at finding optimal shortest paths in a network-like structure. "
   ]
  },
  {
   "cell_type": "markdown",
   "id": "07a3b0e0",
   "metadata": {
    "slideshow": {
     "slide_type": "fragment"
    }
   },
   "source": [
    "- Networks are most commonly used to describe relationships between interconnected entities\n",
    "    - incredibly useful for measuring accessibility\n",
    "- Offers abstract representation of both\n",
    "  1. the distribution of things in relation to some exogenously defined reference\n",
    "     - e.g. coordinates in a CRS (spatial)\n",
    "  2. characteristics of the paths that connect them\n",
    "     - e.g. impedances, geometries\n",
    "- In network parlance these entities are called **nodes** and **edges**, respectively.  (the nodes and edges have attributes of their own) Together, these comprise a data structure known as a **network graph** "
   ]
  },
  {
   "cell_type": "markdown",
   "id": "504793b7",
   "metadata": {
    "slideshow": {
     "slide_type": "fragment"
    }
   },
   "source": [
    "- For more, see CYPLAN 290 -- Urban Systems and Network Science (Prof. Marta Gonzalez)"
   ]
  },
  {
   "cell_type": "markdown",
   "id": "2baa39fa",
   "metadata": {
    "slideshow": {
     "slide_type": "slide"
    }
   },
   "source": [
    "## 2.4. Transportation Networks"
   ]
  },
  {
   "cell_type": "markdown",
   "id": "18d86c46",
   "metadata": {
    "slideshow": {
     "slide_type": "fragment"
    }
   },
   "source": [
    "### 2.4.1. Characteristics\n",
    "- Typically modeled with intersections as the nodes and segments between intersections as the edges (e.g., bart stations are nodes and the bart lines are edges)\n",
    "- Can be mode-specific -- i.e. walk, bike, drive, transit\n",
    "- Can be hierarchical -- i.e. freeway vs. local roads\n",
    "\n",
    "\n",
    "Can have overlapping networks that are separate based on the type of travel that happens on it, like separate walk networks or separate bike networks, and they might have difference boundaries, e.g., you can't bike across the bay bridge, but you can drive or take bart to east bay."
   ]
  },
  {
   "cell_type": "markdown",
   "id": "b093e8e0",
   "metadata": {
    "slideshow": {
     "slide_type": "slide"
    }
   },
   "source": [
    "### 2.4.2. Data, where?"
   ]
  },
  {
   "cell_type": "markdown",
   "id": "15bced40",
   "metadata": {
    "slideshow": {
     "slide_type": "fragment"
    }
   },
   "source": [
    "Our best friends for getting network data:\n",
    "\n",
    "- [OpenStreetMap](https://wiki.osmfoundation.org/wiki/Main_Page)\n",
    "  - Open source, crowdsourced catalog of global transportation network data\n",
    "    - streets, bike lanes, sidewalks (!)\n",
    "  - Extras: administrative boundaries, place names, addresses (geocoding), turn-by-turn routing, trip planning, map tiles, building footprints, traffic control\n",
    "- [Transit.land](https://www.transit.land/) for GTFS data  (it doesn't use json, instead it uses GTFS. Developed by google so the G used to stand for G. I'ts kind of like shapefile in that not one single file, it's a group of files together the define positions of stations on a network, schedule, headways, frequencies. Now there is a form of GTFS that is real-time, which describes continuously updated position of vehicles on the network. So network is a data structure for describing the relationship between entities that are relational. We don't care as much about the exact gemetires or distances along a fixed rail line, for example, we care more about the schedule and the travel time on that network. Whereas for roads, sidewalks, bike lanes, other things where vehicles and participants on those paths don't have to conform to a schedule, then we care more about the distances and geometries. More to come in a later lecture!)\n",
    "  - Generalized Transit Feed Specification \n",
    "  - Stations, schedules, etc.\n",
    "    \n",
    "  "
   ]
  },
  {
   "cell_type": "markdown",
   "id": "42bd287d",
   "metadata": {
    "slideshow": {
     "slide_type": "slide"
    }
   },
   "source": [
    "# 3. Pandana: Pandas for Network Analysis"
   ]
  },
  {
   "cell_type": "markdown",
   "id": "e6bf36f8",
   "metadata": {
    "slideshow": {
     "slide_type": "fragment"
    }
   },
   "source": [
    "Here we demonstrate the main features of the Pandana library, a Python package for network analysis that uses a fancy algorithm called contraction hierarchies to calculate super-fast travel accessibility metrics and shortest paths. (lightning fast queries on a network)\n",
    "\n",
    "See full documentation here: http://udst.github.io/pandana/"
   ]
  },
  {
   "cell_type": "markdown",
   "id": "3e405e67",
   "metadata": {
    "slideshow": {
     "slide_type": "slide"
    }
   },
   "source": [
    "## 3.1. Loading data\n",
    "\n",
    "Note: you may need to install OSMnet if Python complains in the next cell:\n",
    "- `conda install osmnet` or  `pip install osmnet`"
   ]
  },
  {
   "cell_type": "code",
   "execution_count": 1,
   "id": "1b8c287c",
   "metadata": {
    "slideshow": {
     "slide_type": "fragment"
    }
   },
   "outputs": [
    {
     "ename": "ModuleNotFoundError",
     "evalue": "No module named 'pandana'",
     "output_type": "error",
     "traceback": [
      "\u001b[1;31m---------------------------------------------------------------------------\u001b[0m",
      "\u001b[1;31mModuleNotFoundError\u001b[0m                       Traceback (most recent call last)",
      "\u001b[1;32m~\\AppData\\Local\\Temp/ipykernel_15600/2103685996.py\u001b[0m in \u001b[0;36m<module>\u001b[1;34m\u001b[0m\n\u001b[1;32m----> 1\u001b[1;33m \u001b[1;32mimport\u001b[0m \u001b[0mpandana\u001b[0m\u001b[1;33m\u001b[0m\u001b[1;33m\u001b[0m\u001b[0m\n\u001b[0m\u001b[0;32m      2\u001b[0m \u001b[1;32mfrom\u001b[0m \u001b[0mpandana\u001b[0m\u001b[1;33m.\u001b[0m\u001b[0mloaders\u001b[0m \u001b[1;32mimport\u001b[0m \u001b[0mosm\u001b[0m\u001b[1;33m\u001b[0m\u001b[1;33m\u001b[0m\u001b[0m\n\u001b[0;32m      3\u001b[0m \u001b[1;32mimport\u001b[0m \u001b[0mwarnings\u001b[0m\u001b[1;33m\u001b[0m\u001b[1;33m\u001b[0m\u001b[0m\n\u001b[0;32m      4\u001b[0m \u001b[0mwarnings\u001b[0m\u001b[1;33m.\u001b[0m\u001b[0mfilterwarnings\u001b[0m\u001b[1;33m(\u001b[0m\u001b[1;34m'ignore'\u001b[0m\u001b[1;33m)\u001b[0m\u001b[1;33m\u001b[0m\u001b[1;33m\u001b[0m\u001b[0m\n",
      "\u001b[1;31mModuleNotFoundError\u001b[0m: No module named 'pandana'"
     ]
    }
   ],
   "source": [
    "import pandana\n",
    "from pandana.loaders import osm\n",
    "import warnings\n",
    "warnings.filterwarnings('ignore')"
   ]
  },
  {
   "cell_type": "code",
   "execution_count": null,
   "id": "c50c8248",
   "metadata": {},
   "outputs": [],
   "source": [
    "conda install osmnet"
   ]
  },
  {
   "cell_type": "code",
   "execution_count": null,
   "id": "922f4259",
   "metadata": {
    "slideshow": {
     "slide_type": "fragment"
    }
   },
   "outputs": [],
   "source": [
    "network = osm.pdna_network_from_bbox(37.698, -122.517, 37.819, -122.354)  # San Francisco, CA  # Max pre-populated a bounding box around SF"
   ]
  },
  {
   "cell_type": "markdown",
   "id": "0e0a06b9",
   "metadata": {},
   "source": [
    "the Overpass API is the open streetmap API. Can use https://boundingbox.klokantech.com/ to ID bounding coordinates! "
   ]
  },
  {
   "cell_type": "markdown",
   "id": "058214f2",
   "metadata": {
    "slideshow": {
     "slide_type": "slide"
    }
   },
   "source": [
    "## 3.2. Exploring the data\n",
    "\n",
    "Edges and nodes are visible as DataFrames.  All you need for a network is a df for nodes and a df for edges."
   ]
  },
  {
   "cell_type": "code",
   "execution_count": null,
   "id": "d75238c9",
   "metadata": {
    "slideshow": {
     "slide_type": "fragment"
    }
   },
   "outputs": [],
   "source": [
    "network.nodes_df.head()"
   ]
  },
  {
   "cell_type": "code",
   "execution_count": null,
   "id": "a69e5200",
   "metadata": {
    "slideshow": {
     "slide_type": "fragment"
    }
   },
   "outputs": [],
   "source": [
    "network.edges_df.head()"
   ]
  },
  {
   "cell_type": "markdown",
   "id": "e72c732b",
   "metadata": {
    "slideshow": {
     "slide_type": "slide"
    }
   },
   "source": [
    "## 3.3. Reading/Writing to disk\n",
    "\n",
    "You can't directly save a Pandana network object, but you can easily recreate it from the nodes and edges."
   ]
  },
  {
   "cell_type": "code",
   "execution_count": null,
   "id": "cbc0e4ca",
   "metadata": {
    "slideshow": {
     "slide_type": "fragment"
    }
   },
   "outputs": [],
   "source": [
    "network.nodes_df.to_csv('nodes.csv')\n",
    "network.edges_df.to_csv('edges.csv')"
   ]
  },
  {
   "cell_type": "code",
   "execution_count": null,
   "id": "e39ebfdc",
   "metadata": {
    "slideshow": {
     "slide_type": "fragment"
    }
   },
   "outputs": [],
   "source": [
    "nodes = pd.read_csv('nodes.csv', index_col=0)\n",
    "edges = pd.read_csv('edges.csv', index_col=[0,1])"
   ]
  },
  {
   "cell_type": "code",
   "execution_count": null,
   "id": "b3f6652a",
   "metadata": {
    "slideshow": {
     "slide_type": "fragment"
    }
   },
   "outputs": [],
   "source": [
    "network = pandana.Network(nodes['x'], nodes['y'], \n",
    "                          edges['from'], edges['to'], edges[['distance']])"
   ]
  },
  {
   "cell_type": "markdown",
   "id": "fe4c1a9e",
   "metadata": {
    "slideshow": {
     "slide_type": "slide"
    }
   },
   "source": [
    "## 3.4. Computing shortest paths\n",
    "\n",
    "Lets download the location of San Francisco restaurants listed on OSM, and then calculate some shortest paths between them.\n",
    "\n",
    "Depending on how you define your weights, shortest paths could mean different things. If we are walking, maybe we care more about safety features, or nice things along the walk, etc. You can incorporate them into edge weights so when you compute shortest path, it's not based just on networks, it can be based on other features you've decided to incorporate. In the example below though, just going to talk about distance."
   ]
  },
  {
   "cell_type": "code",
   "execution_count": null,
   "id": "7d321bb8",
   "metadata": {
    "slideshow": {
     "slide_type": "fragment"
    }
   },
   "outputs": [],
   "source": [
    "restaurants = osm.node_query(\n",
    "    37.698, -122.517, 37.819, -122.354, tags='\"amenity\"=\"restaurant\"')  #he's grabbing all the restaurants along the network listed in open street map"
   ]
  },
  {
   "cell_type": "markdown",
   "id": "5b5d27aa",
   "metadata": {
    "slideshow": {
     "slide_type": "fragment"
    }
   },
   "source": [
    "Choose two at random and find the closest network nodes to each one:"
   ]
  },
  {
   "cell_type": "code",
   "execution_count": null,
   "id": "5699a969",
   "metadata": {
    "slideshow": {
     "slide_type": "fragment"
    }
   },
   "outputs": [],
   "source": [
    "res = restaurants.sample(2)\n",
    "res"
   ]
  },
  {
   "cell_type": "code",
   "execution_count": null,
   "id": "adf01d4c",
   "metadata": {
    "slideshow": {
     "slide_type": "fragment"
    }
   },
   "outputs": [],
   "source": [
    "res1, res2 = network.get_node_ids(res.lon, res.lat).values  #getting the node ideas on our streetnetwork closest to these two points of interest (i.e., the two random restaurants selected from the dataset)"
   ]
  },
  {
   "cell_type": "markdown",
   "id": "cfe5f261",
   "metadata": {
    "slideshow": {
     "slide_type": "slide"
    }
   },
   "source": [
    "Then use the traverse the network to find the shortest path between them:"
   ]
  },
  {
   "cell_type": "code",
   "execution_count": null,
   "id": "293ebed0",
   "metadata": {
    "slideshow": {
     "slide_type": "fragment"
    }
   },
   "outputs": [],
   "source": [
    "network.shortest_path(res1, res2)  #shortest path calculation between the two restaurants on the network. "
   ]
  },
  {
   "cell_type": "code",
   "execution_count": null,
   "id": "42dec8f1",
   "metadata": {
    "slideshow": {
     "slide_type": "fragment"
    }
   },
   "outputs": [],
   "source": [
    "network.shortest_path_length(res1, res2)  #not sure if the answer is in feet or meters, so would need to cross-check (data dictionary maybe, or find another way to measure and confirm)"
   ]
  },
  {
   "cell_type": "markdown",
   "id": "225d399c",
   "metadata": {
    "slideshow": {
     "slide_type": "fragment"
    }
   },
   "source": [
    "NOTE: Watch your units!"
   ]
  },
  {
   "cell_type": "markdown",
   "id": "d30330a1",
   "metadata": {
    "slideshow": {
     "slide_type": "slide"
    }
   },
   "source": [
    "## 3.5 Calculate many shortest paths at once\n",
    "\n",
    "Pandana can generate several million shortest paths in ~1 minute."
   ]
  },
  {
   "cell_type": "code",
   "execution_count": null,
   "id": "d0cd5d43",
   "metadata": {
    "slideshow": {
     "slide_type": "fragment"
    }
   },
   "outputs": [],
   "source": [
    "restaurant_nodes = network.get_node_ids(restaurants.lon, restaurants.lat).values  #getting node IDs for each restaurant\n",
    "\n",
    "origs = [o for o in restaurant_nodes for d in restaurant_nodes]\n",
    "dests = [d for o in restaurant_nodes for d in restaurant_nodes]"
   ]
  },
  {
   "cell_type": "code",
   "execution_count": null,
   "id": "d52274da",
   "metadata": {
    "slideshow": {
     "slide_type": "fragment"
    }
   },
   "outputs": [],
   "source": [
    "%%time\n",
    "distances = network.shortest_path_lengths(origs, dests) #computing shortest path lengths between them all; might take a minute or so"
   ]
  },
  {
   "cell_type": "markdown",
   "id": "6f420509",
   "metadata": {
    "slideshow": {
     "slide_type": "slide"
    }
   },
   "source": [
    "Now we have the distance from each restaurant to each other restaurant, so we can use pandas to start running some summary statistics, for example."
   ]
  },
  {
   "cell_type": "code",
   "execution_count": null,
   "id": "9d3ead51",
   "metadata": {
    "slideshow": {
     "slide_type": "fragment"
    }
   },
   "outputs": [],
   "source": [
    "import pandas as pd \n",
    "pd.Series(distances).describe()"
   ]
  },
  {
   "cell_type": "markdown",
   "id": "9d6abaaf",
   "metadata": {
    "slideshow": {
     "slide_type": "slide"
    }
   },
   "source": [
    "## 3.6. Proximity (a.k.a. nearest neighbor)\n",
    "\n",
    "Here our goal is to find the closest restaurants to each node on the network. Perhaps we are hungrier than we are picky.\n",
    "\n",
    "To do a network-wide calculation like this, we first need to formally add the restaurants into the network."
   ]
  },
  {
   "cell_type": "code",
   "execution_count": null,
   "id": "8d8d00c8",
   "metadata": {
    "slideshow": {
     "slide_type": "fragment"
    }
   },
   "outputs": [],
   "source": [
    "#here we define all our points of interest and put them on the network at once, like if we want to load restaurants, or convenience, stores, whatever. \n",
    "\n",
    "network.set_pois(category='restaurants',  # can call it anything we want\n",
    "                 maxdist=1000,  # don't search for POIs past this distance  #defining max distance to tell pandana not to go farther to find something. Makes it go faster.\n",
    "                 maxitems=3, #limiting search to three closest restaurants\n",
    "                 x_col=restaurants.lon, #telling it which columns in the df correspond (?) \n",
    "                 y_col=restaurants.lat)"
   ]
  },
  {
   "cell_type": "markdown",
   "id": "da463b2a",
   "metadata": {
    "slideshow": {
     "slide_type": "slide"
    }
   },
   "source": [
    "Now we can run the query, taking every node in the network and get the distance to the nearest three restaurants. "
   ]
  },
  {
   "cell_type": "code",
   "execution_count": null,
   "id": "8986e83f",
   "metadata": {
    "slideshow": {
     "slide_type": "fragment"
    }
   },
   "outputs": [],
   "source": [
    "results = network.nearest_pois(distance=1000,\n",
    "                               category='restaurants',\n",
    "                               num_pois=3,\n",
    "                               include_poi_ids = True)\n",
    "results.head()  #will get distances to each three, and the ID that correspondends to each of the three restaurants in our restaurants table."
   ]
  },
  {
   "cell_type": "markdown",
   "id": "491274e2",
   "metadata": {
    "slideshow": {
     "slide_type": "slide"
    }
   },
   "source": [
    "## 3.7. Network aggregation\n",
    "\n",
    "Here we ask: \"how many restaurants are within 500 meters of each node?\" This type of query can be thought of as a measure of **cumulative accessibility**. This is more similar to what we traditionally think about in accessibility measures. Using a network to measure the radius."
   ]
  },
  {
   "cell_type": "code",
   "execution_count": null,
   "id": "73dbf518",
   "metadata": {
    "slideshow": {
     "slide_type": "fragment"
    }
   },
   "outputs": [],
   "source": [
    "restaurant_nodes = network.get_node_ids(restaurants.lon, restaurants.lat)\n",
    "network.set(restaurant_nodes, name = 'restaurants')"
   ]
  },
  {
   "cell_type": "markdown",
   "id": "2168c9d7",
   "metadata": {
    "slideshow": {
     "slide_type": "fragment"
    }
   },
   "source": [
    "Now we can run the query."
   ]
  },
  {
   "cell_type": "code",
   "execution_count": null,
   "id": "21d4d041",
   "metadata": {
    "slideshow": {
     "slide_type": "fragment"
    }
   },
   "outputs": [],
   "source": [
    "accessibility = network.aggregate(\n",
    "    distance=500,\n",
    "    type='count',  # could also do mean, sum, percentile, like pandas aggregation functions\n",
    "    decay='flat',  # can apply exponential or linear decay for sum/mean\n",
    "    name='restaurants'\n",
    ")\n",
    "accessibility.describe()  #results tell us that on average from each point on network, there are 11 restaurants within 500m"
   ]
  },
  {
   "cell_type": "markdown",
   "id": "691702fa",
   "metadata": {
    "slideshow": {
     "slide_type": "slide"
    }
   },
   "source": [
    "## 3.8. Visualize your results\n",
    "\n",
    "Pandana's built-in `plot` function uses an older Matplotlib extension called Basemap that's now difficult to install. So we'll just use Matplotlib directly."
   ]
  },
  {
   "cell_type": "code",
   "execution_count": null,
   "id": "c53bc2c4",
   "metadata": {
    "slideshow": {
     "slide_type": "fragment"
    }
   },
   "outputs": [],
   "source": [
    "import matplotlib\n",
    "from matplotlib import pyplot as plt"
   ]
  },
  {
   "cell_type": "code",
   "execution_count": null,
   "id": "84cc2d8a",
   "metadata": {
    "scrolled": false,
    "slideshow": {
     "slide_type": "fragment"
    }
   },
   "outputs": [],
   "source": [
    "#taking output from aggregate accessibility query (which was a pandas series with count of restaurants)\n",
    "\n",
    "fig, ax = plt.subplots(figsize=(10,8))\n",
    "\n",
    "plt.title('San Francisco: Restaurants within 500m')\n",
    "plt.scatter(network.nodes_df.x, network.nodes_df.y, \n",
    "            c=accessibility, s=1, cmap='YlOrRd', \n",
    "            norm=matplotlib.colors.LogNorm())\n",
    "\n",
    "cb = plt.colorbar()\n",
    "\n",
    "plt.show()  #shows us kind of a heat map, but its an aggregate, cumulatative opportunity measure relative to every point on a road network."
   ]
  },
  {
   "cell_type": "markdown",
   "id": "a5e74181",
   "metadata": {
    "slideshow": {
     "slide_type": "slide"
    }
   },
   "source": [
    "# 4. OSMnx: OpenStreetMap + NetworkX\n",
    "\n",
    "OSMnx is a Python library that lets you download spatial geometries and construct, project, and visualize street networks from OpenStreetMap's API.  It makes heavy use of the NetworkX library for network analysis.\n",
    "\n",
    "https://www.openstreetmap.org  \n",
    "\n",
    "OSMnx documentation: https://osmnx.readthedocs.io/en/stable/index.html  \n",
    "OSMnx examples: https://github.com/gboeing/osmnx-examples/tree/master/notebooks\n",
    "\n",
    "NetworkX documentation: https://networkx.github.io/documentation/stable/"
   ]
  },
  {
   "cell_type": "code",
   "execution_count": 2,
   "id": "07898be8",
   "metadata": {
    "slideshow": {
     "slide_type": "fragment"
    }
   },
   "outputs": [
    {
     "ename": "ModuleNotFoundError",
     "evalue": "No module named 'geopandas'",
     "output_type": "error",
     "traceback": [
      "\u001b[1;31m---------------------------------------------------------------------------\u001b[0m",
      "\u001b[1;31mModuleNotFoundError\u001b[0m                       Traceback (most recent call last)",
      "\u001b[1;32m~\\AppData\\Local\\Temp/ipykernel_10168/3193693332.py\u001b[0m in \u001b[0;36m<module>\u001b[1;34m\u001b[0m\n\u001b[1;32m----> 1\u001b[1;33m \u001b[1;32mimport\u001b[0m \u001b[0mgeopandas\u001b[0m \u001b[1;32mas\u001b[0m \u001b[0mgpd\u001b[0m\u001b[1;33m\u001b[0m\u001b[1;33m\u001b[0m\u001b[0m\n\u001b[0m\u001b[0;32m      2\u001b[0m \u001b[1;32mimport\u001b[0m \u001b[0mpandas\u001b[0m \u001b[1;32mas\u001b[0m \u001b[0mpd\u001b[0m\u001b[1;33m\u001b[0m\u001b[1;33m\u001b[0m\u001b[0m\n\u001b[0;32m      3\u001b[0m \u001b[1;32mimport\u001b[0m \u001b[0mnumpy\u001b[0m \u001b[1;32mas\u001b[0m \u001b[0mnp\u001b[0m\u001b[1;33m\u001b[0m\u001b[1;33m\u001b[0m\u001b[0m\n\u001b[0;32m      4\u001b[0m \u001b[1;32mimport\u001b[0m \u001b[0mmatplotlib\u001b[0m\u001b[1;33m.\u001b[0m\u001b[0mcm\u001b[0m \u001b[1;32mas\u001b[0m \u001b[0mcm\u001b[0m\u001b[1;33m\u001b[0m\u001b[1;33m\u001b[0m\u001b[0m\n\u001b[0;32m      5\u001b[0m \u001b[1;32mimport\u001b[0m \u001b[0mnetworkx\u001b[0m \u001b[1;32mas\u001b[0m \u001b[0mnx\u001b[0m\u001b[1;33m\u001b[0m\u001b[1;33m\u001b[0m\u001b[0m\n",
      "\u001b[1;31mModuleNotFoundError\u001b[0m: No module named 'geopandas'"
     ]
    }
   ],
   "source": [
    "import geopandas as gpd\n",
    "import pandas as pd\n",
    "import numpy as np\n",
    "import matplotlib.cm as cm\n",
    "import networkx as nx\n",
    "import osmnx\n",
    "print(osmnx.__version__)\n",
    "osmnx.config(log_file=True, log_console=True, use_cache=True)"
   ]
  },
  {
   "cell_type": "markdown",
   "id": "edbb840e",
   "metadata": {
    "slideshow": {
     "slide_type": "slide"
    }
   },
   "source": [
    "## 4.1. Download place boundaries\n",
    "\n",
    "OSMnx makes it a little easier to download OSM data, especially non-network data like place boundaries or building footprints. See [this notebook](https://github.com/gboeing/osmnx-examples/blob/master/notebooks/02-example-osm-to-shapefile.ipynb) for more detail."
   ]
  },
  {
   "cell_type": "code",
   "execution_count": 1,
   "id": "c1b58143",
   "metadata": {
    "slideshow": {
     "slide_type": "fragment"
    }
   },
   "outputs": [
    {
     "ename": "NameError",
     "evalue": "name 'osmnx' is not defined",
     "output_type": "error",
     "traceback": [
      "\u001b[1;31m---------------------------------------------------------------------------\u001b[0m",
      "\u001b[1;31mNameError\u001b[0m                                 Traceback (most recent call last)",
      "\u001b[1;32m~\\AppData\\Local\\Temp/ipykernel_10168/2791302947.py\u001b[0m in \u001b[0;36m<module>\u001b[1;34m\u001b[0m\n\u001b[1;32m----> 1\u001b[1;33m \u001b[0mcity\u001b[0m \u001b[1;33m=\u001b[0m \u001b[0mosmnx\u001b[0m\u001b[1;33m.\u001b[0m\u001b[0mgeocode_to_gdf\u001b[0m\u001b[1;33m(\u001b[0m\u001b[1;34m'Manhattan, New York, New York, USA'\u001b[0m\u001b[1;33m)\u001b[0m\u001b[1;33m\u001b[0m\u001b[1;33m\u001b[0m\u001b[0m\n\u001b[0m\u001b[0;32m      2\u001b[0m \u001b[0mtype\u001b[0m\u001b[1;33m(\u001b[0m\u001b[0mcity\u001b[0m\u001b[1;33m)\u001b[0m\u001b[1;33m\u001b[0m\u001b[1;33m\u001b[0m\u001b[0m\n",
      "\u001b[1;31mNameError\u001b[0m: name 'osmnx' is not defined"
     ]
    }
   ],
   "source": [
    "city = osmnx.geocode_to_gdf('Manhattan, New York, New York, USA')\n",
    "type(city)"
   ]
  },
  {
   "cell_type": "code",
   "execution_count": null,
   "id": "2b910858",
   "metadata": {
    "slideshow": {
     "slide_type": "fragment"
    }
   },
   "outputs": [],
   "source": [
    "city.head()"
   ]
  },
  {
   "cell_type": "markdown",
   "id": "16ce3acb",
   "metadata": {
    "slideshow": {
     "slide_type": "slide"
    }
   },
   "source": [
    "### 4.1.1. Reprojection\n",
    "\n",
    "You can use any standard tools for plotting geodataframe geometries, but OSMNx also has some helper functions for handling projections and basic mapping. You will want to make sure you working with cartesian coordinates before performing any network analysis"
   ]
  },
  {
   "cell_type": "code",
   "execution_count": null,
   "id": "ac407f0a",
   "metadata": {
    "slideshow": {
     "slide_type": "fragment"
    }
   },
   "outputs": [],
   "source": [
    "# uses the optimal local UTM projection by default\n",
    "osmnx.project_gdf(city).head()"
   ]
  },
  {
   "cell_type": "code",
   "execution_count": null,
   "id": "477ff1f8",
   "metadata": {
    "slideshow": {
     "slide_type": "fragment"
    }
   },
   "outputs": [],
   "source": [
    "fig, ax = plt.subplots(figsize=(7,7))\n",
    "osmnx.project_gdf(city).plot(fc='lightblue', ec='lightgrey', ax=ax)\n",
    "_ = ax.axis('off')"
   ]
  },
  {
   "cell_type": "markdown",
   "id": "733dc15c",
   "metadata": {
    "slideshow": {
     "slide_type": "slide"
    }
   },
   "source": [
    "### 4.1.2. Grab multiple places at once"
   ]
  },
  {
   "cell_type": "code",
   "execution_count": null,
   "id": "17e305b3",
   "metadata": {
    "slideshow": {
     "slide_type": "fragment"
    }
   },
   "outputs": [],
   "source": [
    "place_names = ['Berkeley, California, USA', \n",
    "               'Oakland, California, USA',\n",
    "               'Piedmont, California, USA',\n",
    "               'Emeryville, California, USA',\n",
    "               'Alameda, Alameda County, CA, USA']\n",
    "\n",
    "east_bay = osmnx.geocode_to_gdf(place_names)\n",
    "\n",
    "fig, ax = plt.subplots(figsize=(7,7))\n",
    "osmnx.project_gdf(east_bay).plot(fc='lightblue', ec='k', ax=ax)\n",
    "_ = ax.axis('off')"
   ]
  },
  {
   "cell_type": "markdown",
   "id": "d038cb49",
   "metadata": {
    "slideshow": {
     "slide_type": "slide"
    }
   },
   "source": [
    "### Exercise\n",
    "\n",
    "Try downloading some other place outlines!"
   ]
  },
  {
   "cell_type": "code",
   "execution_count": null,
   "id": "cd3ade9c",
   "metadata": {
    "slideshow": {
     "slide_type": "fragment"
    }
   },
   "outputs": [],
   "source": []
  },
  {
   "cell_type": "markdown",
   "id": "6bbfc6e6",
   "metadata": {
    "slideshow": {
     "slide_type": "slide"
    }
   },
   "source": [
    "## 4.2. Download and process street networks\n",
    "\n",
    "OSMnx lets you download street network data and build topologically-corrected street networks, project and plot the networks, and save the street network as SVGs, GraphML files, or shapefiles for later use. The street networks are directed and preserve one-way directionality. For a more in-depth demonstration of creating street networks, see [this notebook](https://github.com/gboeing/osmnx-examples/blob/main/notebooks/03-graph-place-queries.ipynb).\n",
    "\n",
    "Note that a **graph** is the math/computer science term for the data structure you probably think of as a \"network\": a set of vertices/nodes/points that are connected by edges/links/lines. More [here](https://en.wikipedia.org/wiki/Graph_(abstract_data_type)). This can be confusing because data visualizations are often called \"graphs\" as well; it seems like this originally referred only to network diagrams but has now expanded to include more things. Consider calling your data visualizations \"charts\" instead!\n",
    "\n",
    "You can download a street network by providing OSMnx any of the following:\n",
    "  - a bounding box\n",
    "  - a lat-lon point plus a distance\n",
    "  - an address plus a distance\n",
    "  - a place name or list of place names (to automatically geocode and get the boundary of)\n",
    "  - a polygon of the desired street network's boundaries\n",
    "\n",
    "You can also specify several different network types: (these are kinds of networks you can query with OSMnx)\n",
    "  - 'drive' - get drivable public streets (but not service roads)\n",
    "  - 'drive_service' - get drivable streets, including service roads\n",
    "  - 'walk' - get all streets and paths that pedestrians can use (this network type ignores one-way directionality)\n",
    "  - 'bike' - get all streets and paths that cyclists can use\n",
    "  - 'all' - download all non-private OSM streets and paths (this is the default network type unless you specify a different one)\n",
    "  - 'all_private' - download all OSM streets and paths, including private-access ones\n"
   ]
  },
  {
   "cell_type": "markdown",
   "id": "be32eb3e",
   "metadata": {
    "slideshow": {
     "slide_type": "slide"
    }
   },
   "source": [
    "### 4.2.1. Streets within a bounding box\n",
    " This constructs the network from all the OSM \"nodes\" (a.k.a. intersections or vertices) and \"ways\" (a.k.a. streets, edges, links, etc.) within the bounding box."
   ]
  },
  {
   "cell_type": "code",
   "execution_count": null,
   "id": "c4b76b9e",
   "metadata": {
    "scrolled": true,
    "slideshow": {
     "slide_type": "fragment"
    }
   },
   "outputs": [],
   "source": [
    "# define a bounding box\n",
    "north, south, east, west = 37.79, 37.78, -122.41, -122.43  #this is just somewhere in SF\n",
    "\n",
    "# create network from that bounding box\n",
    "G1 = osmnx.graph_from_bbox(north, south, east, west, network_type='drive')   #saying just want the driving network, so no sidewalks, bikelanes, bridalways, etc.\n",
    "G1_projected = osmnx.project_graph(G1) #projecting it\n",
    "\n",
    "fig, ax = osmnx.plot_graph(G1_projected, bgcolor='none', node_color='red') #plotting it, could style however we want. \n",
    "fig.show()  "
   ]
  },
  {
   "cell_type": "code",
   "execution_count": null,
   "id": "28647e80",
   "metadata": {
    "slideshow": {
     "slide_type": "fragment"
    }
   },
   "outputs": [],
   "source": [
    "type(G1)"
   ]
  },
  {
   "cell_type": "markdown",
   "id": "6236d2d5",
   "metadata": {
    "slideshow": {
     "slide_type": "slide"
    }
   },
   "source": [
    "### 4.2.2. Street network by place name"
   ]
  },
  {
   "cell_type": "code",
   "execution_count": null,
   "id": "dc6e4aab",
   "metadata": {
    "slideshow": {
     "slide_type": "fragment"
    }
   },
   "outputs": [],
   "source": [
    "G2 = osmnx.graph_from_place('Piedmont, California, USA')  #similar kind of query by specifying a place (I guess instead of by bounding box)\n",
    "G2_projected = osmnx.project_graph(G2)\n",
    "fig, ax = osmnx.plot_graph(G2_projected, bgcolor='none', node_color='red')\n",
    "fig.show()"
   ]
  },
  {
   "cell_type": "code",
   "execution_count": null,
   "id": "35590615",
   "metadata": {
    "slideshow": {
     "slide_type": "fragment"
    }
   },
   "outputs": [],
   "source": [
    "ec = osmnx.plot.get_edge_colors_by_attr(G2_projected, attr='length')  #have edge colors, passing them to the plot_graph function, and now coloring the edges by the length\n",
    "fig, ax = osmnx.plot_graph(\n",
    "    G2_projected, bgcolor='none',\n",
    "    node_color='w', node_edgecolor='k', node_size=1, node_zorder=3,\n",
    "    edge_color=ec, edge_linewidth=3)\n",
    "fig.show()  #result highlights why kind of silly to use crow-flies distances for network accessibility"
   ]
  },
  {
   "cell_type": "markdown",
   "id": "cc93e7ed",
   "metadata": {
    "slideshow": {
     "slide_type": "slide"
    }
   },
   "source": [
    "### 4.2.3. Street network within a distance radius\n",
    "\n",
    "- This can be either a straight-line distance (implemented as a bounding box) or a network distance. \n",
    "- If it's a *driving* network, the network distances will respect one-way streets, but if it's a *walking* network, two-way travel is allowed everywhere."
   ]
  },
  {
   "cell_type": "code",
   "execution_count": null,
   "id": "48c9cf9a",
   "metadata": {
    "slideshow": {
     "slide_type": "fragment"
    }
   },
   "outputs": [],
   "source": [
    "# define a point at the corner of California St and Mason St in SF\n",
    "location_point = (37.791427, -122.410018)\n",
    "\n",
    "# create network only of nodes within 500m walking along the network from point\n",
    "G3 = osmnx.graph_from_point(location_point, dist=500, dist_type='network', network_type='walk')\n",
    "G3 = osmnx.project_graph(G3)\n",
    "\n",
    "fig, ax = osmnx.plot_graph(G3, bgcolor='none', node_color='red')\n",
    "fig.show()"
   ]
  },
  {
   "cell_type": "markdown",
   "id": "f068ca10",
   "metadata": {
    "slideshow": {
     "slide_type": "slide"
    }
   },
   "source": [
    "### Exercise\n",
    "\n",
    "Try getting a specific type of network for some place in the world -- (in the interest of time, don't get too big a city or other geography).  Try for walk vs drive vs some other type."
   ]
  },
  {
   "cell_type": "code",
   "execution_count": null,
   "id": "8a2a91db",
   "metadata": {
    "slideshow": {
     "slide_type": "fragment"
    }
   },
   "outputs": [],
   "source": []
  },
  {
   "cell_type": "markdown",
   "id": "6c5c0af6",
   "metadata": {
    "slideshow": {
     "slide_type": "slide"
    }
   },
   "source": [
    "## 4.3. Converting networks and saving them to disk\n",
    "\n",
    "Remember that the street networks are *not* GeoDataFrames -- they contain information about both **nodes** (points) and **edges** (lines). When you save them to geospatial formats like a Shapefile or GeoJSON, you'll need two separate files.\n",
    "\n",
    "For more examples of saving and loading networks to/from disk, see [this notebook](https://github.com/gboeing/osmnx-examples/blob/main/notebooks/05-save-load-networks.ipynb).\n",
    "\n",
    "API documentation for [saving and loading](https://osmnx.readthedocs.io/en/stable/osmnx.html#module-osmnx.save_load)"
   ]
  },
  {
   "cell_type": "markdown",
   "id": "728d973a",
   "metadata": {
    "slideshow": {
     "slide_type": "slide"
    }
   },
   "source": [
    "### 4.3.1. Network Graph to Shapefile"
   ]
  },
  {
   "cell_type": "code",
   "execution_count": null,
   "id": "3bb83147",
   "metadata": {
    "slideshow": {
     "slide_type": "fragment"
    }
   },
   "outputs": [],
   "source": [
    "osmnx.save_graph_shapefile(G3, filepath='network-shape')  #can save network graph to a shapefile that you can load in geopandas, GIS software, etc."
   ]
  },
  {
   "cell_type": "markdown",
   "id": "59658bfd",
   "metadata": {
    "slideshow": {
     "slide_type": "slide"
    }
   },
   "source": [
    "### 4.3.2. To GeoDataFrame, .csv, .geojson"
   ]
  },
  {
   "cell_type": "code",
   "execution_count": null,
   "id": "49df9512",
   "metadata": {
    "slideshow": {
     "slide_type": "fragment"
    }
   },
   "outputs": [],
   "source": [
    "gdf_nodes, gdf_edges = osmnx.graph_to_gdfs(G3)  #can save network graphs to 2 dfs with nodes and edges"
   ]
  },
  {
   "cell_type": "code",
   "execution_count": null,
   "id": "d78659d9",
   "metadata": {
    "slideshow": {
     "slide_type": "fragment"
    }
   },
   "outputs": [],
   "source": [
    "gdf_nodes.head(3)"
   ]
  },
  {
   "cell_type": "code",
   "execution_count": null,
   "id": "1d74c55f",
   "metadata": {
    "slideshow": {
     "slide_type": "fragment"
    }
   },
   "outputs": [],
   "source": [
    "gdf_edges.head(3)"
   ]
  },
  {
   "cell_type": "code",
   "execution_count": null,
   "id": "a80de55e",
   "metadata": {
    "slideshow": {
     "slide_type": "fragment"
    }
   },
   "outputs": [],
   "source": [
    "gdf_nodes.to_file('nodes.geojson', driver='GeoJSON') #now that you have them in dataframes, can save them in whatever format you like, geojsons, csvs, etc."
   ]
  },
  {
   "cell_type": "markdown",
   "id": "a0cd6c18",
   "metadata": {},
   "source": [
    "### Exercise\n",
    "\n",
    "Take one of the street networks we've loaded, convert its edges to a GeoDataFrame, and generate a list of all the street names.\n",
    "\n",
    "Hint: the data types are a little messy, but something like this should work for the last step.\n",
    "\n",
    "`gdf_edges['name'].astype('str').unique()`"
   ]
  },
  {
   "cell_type": "code",
   "execution_count": null,
   "id": "49fbe47d",
   "metadata": {},
   "outputs": [],
   "source": []
  },
  {
   "cell_type": "markdown",
   "id": "9e7ec9a7",
   "metadata": {
    "slideshow": {
     "slide_type": "slide"
    }
   },
   "source": [
    "## 4.4. Network analysis (topological and metric)\n",
    "\n",
    "Network analysis is not all about shortest path calculations.  Network science is an entire field of analysis that exlores networks as mathematical / topological 'graphs'.  Also transportation planners use network structure information to inform analysis of travel behavior.  The 3Ds work by Cervero and Kockleman have evolved into 7Ds (or more) by researchers and practitioners trying to understand what urban design characteristics are associated with more walking and less driving.\n",
    "\n",
    "Below we explore functionality that OSMnx offers, with considerable help from Networkx under the hood, to provide these kinds of calculations. \n",
    "\n",
    "For more depth, see [this notebook](https://github.com/gboeing/osmnx-examples/blob/main/notebooks/06-stats-indicators-centrality.ipynb)."
   ]
  },
  {
   "cell_type": "code",
   "execution_count": null,
   "id": "75bff8a6",
   "metadata": {
    "slideshow": {
     "slide_type": "fragment"
    }
   },
   "outputs": [],
   "source": [
    "osmnx.basic_stats(osmnx.graph_from_place('Piedmont, California, USA'))"
   ]
  },
  {
   "cell_type": "markdown",
   "id": "d093a536",
   "metadata": {
    "slideshow": {
     "slide_type": "slide"
    }
   },
   "source": [
    "## 4.4.1. Shortest path routing\n",
    "\n",
    "Let the origin node be the node nearest the location and let the destination node just be the last node in the network. Then find the shortest path between origin and destination. The edges can be weighted in various different ways, but distance or travel time are the most common approaches."
   ]
  },
  {
   "cell_type": "code",
   "execution_count": null,
   "id": "a53b4470",
   "metadata": {
    "slideshow": {
     "slide_type": "fragment"
    }
   },
   "outputs": [],
   "source": [
    "location_point = (37.791427, -122.410018)\n",
    "G = osmnx.graph_from_point(location_point, dist=500, dist_type='network', network_type='walk')\n",
    "origin_node = osmnx.get_nearest_node(G, location_point)"
   ]
  },
  {
   "cell_type": "code",
   "execution_count": null,
   "id": "7af5a949",
   "metadata": {
    "scrolled": false,
    "slideshow": {
     "slide_type": "fragment"
    }
   },
   "outputs": [],
   "source": [
    "destination_node = pd.Series(list(G.nodes())).sample().values[0]   #converting the list of nodes on network to a panda series and then taking a random sample, which will return a single destination node\n",
    "route = nx.shortest_path(G, origin_node, destination_node)  # this is a NetworkX function #passing it to shortest path method\n",
    "print(nx.shortest_path_length(G, origin_node, destination_node, weight='length')) #print the shortest path\n",
    "fig, ax = osmnx.plot_graph_route(G, route, bgcolor='none', node_color='none') #plotting route that it found\n",
    "fig.show()  #can run the cell multiple times to print distance/plot between different nodes each time since was pulling a random sample"
   ]
  },
  {
   "cell_type": "markdown",
   "id": "9f9b9a1d",
   "metadata": {
    "slideshow": {
     "slide_type": "slide"
    }
   },
   "source": [
    "### Exercise\n",
    "\n",
    "Pick an area of a city and download the OSM street graph for it. Choose two locations and find the shortest path between them!\n",
    "\n",
    "Tip: One way to get lat-lon coordinates for arbitrary places is by right-clicking (or control-clicking) on a spot in Google Maps and choosing \"What's here\"."
   ]
  },
  {
   "cell_type": "code",
   "execution_count": null,
   "id": "982681d6",
   "metadata": {},
   "outputs": [],
   "source": []
  },
  {
   "cell_type": "markdown",
   "id": "cc4e82c8",
   "metadata": {
    "slideshow": {
     "slide_type": "slide"
    }
   },
   "source": [
    "# 5. For next time"
   ]
  },
  {
   "cell_type": "markdown",
   "id": "2375c44f",
   "metadata": {
    "slideshow": {
     "slide_type": "fragment"
    }
   },
   "source": [
    "![](https://valhalla.readthedocs.io/en/latest/api/images/isochrone.png)\n",
    "- Work through the OSMnx [isochrone demo notebook](https://github.com/gboeing/osmnx-examples/blob/main/notebooks/13-isolines-isochrones.ipynb)  #there are demos on the github that show the kinds of cool things you can do with it.\n",
    "- Work through the UrbanAccess [demo notebook](https://github.com/UDST/urbanaccess/blob/dev/demo/simple_example.ipynb)\n",
    "   - Pandana + GTFS for multi-modal accessibility\n",
    "   \n",
    "   #isochrone kind of what we were getting at with bart distance map, but instead of concentric distances around a station, using network-based distances to define contour lines of travel time.\n",
    "   #openstreetmap doesn't have great transit connectivity data, so for fixed rail, commuter rail, and similar kinds of networks, urbanaccess basically takes all the functionality of pandana but it reads in GTFS data and allows you do to multi-modal accessibility queries, like if walking to transit station and then on transit network and then want to computer accessibility. "
   ]
  },
  {
   "cell_type": "code",
   "execution_count": null,
   "id": "9d0a4144",
   "metadata": {},
   "outputs": [],
   "source": []
  }
 ],
 "metadata": {
  "celltoolbar": "Slideshow",
  "kernelspec": {
   "display_name": "Python 3 (ipykernel)",
   "language": "python",
   "name": "python3"
  },
  "language_info": {
   "codemirror_mode": {
    "name": "ipython",
    "version": 3
   },
   "file_extension": ".py",
   "mimetype": "text/x-python",
   "name": "python",
   "nbconvert_exporter": "python",
   "pygments_lexer": "ipython3",
   "version": "3.9.7"
  },
  "toc": {
   "base_numbering": 1,
   "nav_menu": {},
   "number_sections": false,
   "sideBar": true,
   "skip_h1_title": false,
   "title_cell": "Table of Contents",
   "title_sidebar": "Contents",
   "toc_cell": false,
   "toc_position": {
    "height": "calc(100% - 180px)",
    "left": "10px",
    "top": "150px",
    "width": "336px"
   },
   "toc_section_display": true,
   "toc_window_display": false
  }
 },
 "nbformat": 4,
 "nbformat_minor": 5
}
